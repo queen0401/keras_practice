{
 "cells": [
  {
   "cell_type": "code",
   "execution_count": 1,
   "id": "dba722fb",
   "metadata": {},
   "outputs": [],
   "source": [
    "import os\n",
    "import shutil\n",
    "from tensorflow.keras import models\n",
    "from tensorflow.keras import layers\n",
    "from tensorflow.keras import optimizers\n",
    "from tensorflow.keras.preprocessing.image import ImageDataGenerator\n",
    "import matplotlib.pyplot as plt\n",
    "%matplotlib inline\n",
    "import tensorflow as tf"
   ]
  },
  {
   "cell_type": "code",
   "execution_count": 2,
   "id": "e404839e",
   "metadata": {},
   "outputs": [],
   "source": [
    "#创建目录，将图片分别放到训练集，验证集和测试集中\n",
    "original_dataset_dir = 'D:\\\\data\\\\dogs-vs-cats\\\\train'\n",
    "base_dir = 'D:\\\\data\\\\dogs-va-cats-small'\n",
    "#os.mkdir(base_dir)\n",
    "\n",
    "train_dir = os.path.join(base_dir, 'train')\n",
    "# os.mkdir(train_dir)\n",
    "validation_dir = os.path.join(base_dir, 'validation')\n",
    "# os.mkdir(validation_dir)\n",
    "test_dir = os.path.join(base_dir, 'test')\n",
    "# os.mkdir(test_dir)\n",
    "train_cats_dir = os.path.join(train_dir, 'cats') \n",
    "# os.mkdir(train_cats_dir)\n",
    "train_dogs_dir = os.path.join(train_dir, 'dogs') \n",
    "# os.mkdir(train_dogs_dir)\n",
    "validation_cats_dir = os.path.join(validation_dir, 'cats') \n",
    "# os.mkdir(validation_cats_dir)\n",
    "validation_dogs_dir = os.path.join(validation_dir, 'dogs') \n",
    "# os.mkdir(validation_dogs_dir)\n",
    "test_cats_dir = os.path.join(test_dir, 'cats') \n",
    "# os.mkdir(test_cats_dir)\n",
    "test_dogs_dir = os.path.join(test_dir, 'dogs') \n",
    "# os.mkdir(test_dogs_dir)\n",
    "\n",
    "fnames = ['cat.{}.jpg'.format(i) for i in range(1000)]\n",
    "for fname in fnames:\n",
    "    source = os.path.join(original_dataset_dir, fname)\n",
    "    destination = os.path.join(train_cats_dir, fname)\n",
    "    shutil.copyfile(source, destination)\n",
    "\n",
    "fnames = ['cat.{}.jpg'.format(i) for i in range(1000, 1500)]\n",
    "for fname in fnames:\n",
    "    source = os.path.join(original_dataset_dir, fname)\n",
    "    destination = os.path.join(validation_cats_dir, fname)\n",
    "    shutil.copyfile(source, destination)\n",
    "\n",
    "fnames = ['cat.{}.jpg'.format(i) for i in range(1500, 2000)] \n",
    "for fname in fnames:\n",
    "    src = os.path.join(original_dataset_dir, fname)\n",
    "    dst = os.path.join(test_cats_dir, fname)\n",
    "    shutil.copyfile(src, dst)\n",
    "fnames = ['dog.{}.jpg'.format(i) for i in range(1000)] \n",
    "for fname in fnames:\n",
    "    src = os.path.join(original_dataset_dir, fname)\n",
    "    dst = os.path.join(train_dogs_dir, fname)\n",
    "    shutil.copyfile(src, dst)\n",
    "fnames = ['dog.{}.jpg'.format(i) for i in range(1000, 1500)] \n",
    "for fname in fnames:\n",
    "    src = os.path.join(original_dataset_dir, fname)\n",
    "    dst = os.path.join(validation_dogs_dir, fname)\n",
    "    shutil.copyfile(src, dst)\n",
    "fnames = ['dog.{}.jpg'.format(i) for i in range(1500, 2000)] \n",
    "for fname in fnames:\n",
    "    src = os.path.join(original_dataset_dir, fname)\n",
    "    dst = os.path.join(test_dogs_dir, fname)\n",
    "    shutil.copyfile(src, dst)"
   ]
  },
  {
   "cell_type": "code",
   "execution_count": 3,
   "id": "c598da03",
   "metadata": {},
   "outputs": [
    {
     "name": "stdout",
     "output_type": "stream",
     "text": [
      "Model: \"sequential\"\n",
      "_________________________________________________________________\n",
      "Layer (type)                 Output Shape              Param #   \n",
      "=================================================================\n",
      "conv2d (Conv2D)              (None, 148, 148, 32)      896       \n",
      "_________________________________________________________________\n",
      "max_pooling2d (MaxPooling2D) (None, 74, 74, 32)        0         \n",
      "_________________________________________________________________\n",
      "conv2d_1 (Conv2D)            (None, 72, 72, 64)        18496     \n",
      "_________________________________________________________________\n",
      "max_pooling2d_1 (MaxPooling2 (None, 36, 36, 64)        0         \n",
      "_________________________________________________________________\n",
      "conv2d_2 (Conv2D)            (None, 34, 34, 128)       73856     \n",
      "_________________________________________________________________\n",
      "max_pooling2d_2 (MaxPooling2 (None, 17, 17, 128)       0         \n",
      "_________________________________________________________________\n",
      "conv2d_3 (Conv2D)            (None, 15, 15, 128)       147584    \n",
      "_________________________________________________________________\n",
      "max_pooling2d_3 (MaxPooling2 (None, 7, 7, 128)         0         \n",
      "_________________________________________________________________\n",
      "flatten (Flatten)            (None, 6272)              0         \n",
      "_________________________________________________________________\n",
      "dense (Dense)                (None, 512)               3211776   \n",
      "_________________________________________________________________\n",
      "dense_1 (Dense)              (None, 1)                 513       \n",
      "=================================================================\n",
      "Total params: 3,453,121\n",
      "Trainable params: 3,453,121\n",
      "Non-trainable params: 0\n",
      "_________________________________________________________________\n"
     ]
    }
   ],
   "source": [
    "model = models.Sequential()\n",
    "model.add(layers.Conv2D(32, (3,3) , activation = 'relu', input_shape = (150, 150, 3)))\n",
    "model.add(layers.MaxPooling2D((2,2)))\n",
    "model.add(layers.Conv2D(64, (3, 3), activation='relu'))\n",
    "model.add(layers.MaxPooling2D((2, 2)))\n",
    "model.add(layers.Conv2D(128, (3, 3), activation='relu'))\n",
    "model.add(layers.MaxPooling2D((2, 2)))\n",
    "model.add(layers.Conv2D(128, (3, 3), activation='relu'))\n",
    "model.add(layers.MaxPooling2D((2, 2)))\n",
    "\n",
    "model.add(layers.Flatten())\n",
    "model.add(layers.Dense(512, activation = 'relu'))\n",
    "model.add(layers.Dense(1, activation = 'sigmoid'))\n",
    "\n",
    "model.summary()"
   ]
  },
  {
   "cell_type": "code",
   "execution_count": 4,
   "id": "6949aa30",
   "metadata": {},
   "outputs": [
    {
     "name": "stderr",
     "output_type": "stream",
     "text": [
      "C:\\Users\\李伟豪\\AppData\\Roaming\\Python\\Python38\\site-packages\\tensorflow\\python\\keras\\optimizer_v2\\optimizer_v2.py:374: UserWarning: The `lr` argument is deprecated, use `learning_rate` instead.\n",
      "  warnings.warn(\n"
     ]
    }
   ],
   "source": [
    "#编译模型\n",
    "model.compile(loss = 'binary_crossentropy',       #二分类问题用二元交叉熵作为损失函数\n",
    "              optimizer = optimizers.RMSprop(lr=1e-4),\n",
    "              metrics = ['acc']\n",
    "             )"
   ]
  },
  {
   "cell_type": "code",
   "execution_count": 5,
   "id": "473319c8",
   "metadata": {},
   "outputs": [
    {
     "name": "stdout",
     "output_type": "stream",
     "text": [
      "Found 2000 images belonging to 2 classes.\n",
      "Found 1000 images belonging to 2 classes.\n"
     ]
    }
   ],
   "source": [
    "#图像数据预处理\n",
    "# (1) 读取图像文件。\n",
    "# (2) 将 JPEG 文件解码为 RGB 像素网格。\n",
    "# (3) 将这些像素网格转换为浮点数张量。\n",
    "# (4) 将像素值（0~255 范围内）缩放到 [0, 1] 区间\n",
    "train_datagen = ImageDataGenerator(rescale=1./255)      \n",
    "val_datagen = ImageDataGenerator(rescale = 1./255)    \n",
    "\n",
    "train_generator = train_datagen.flow_from_directory(train_dir,     #生成器\n",
    "                                                   target_size = (150, 150),\n",
    "                                                   batch_size = 20,\n",
    "                                                   class_mode = 'binary')\n",
    "\n",
    "validation_generator = val_datagen.flow_from_directory(validation_dir,\n",
    "                                                   target_size = (150, 150),\n",
    "                                                   batch_size = 20,\n",
    "                                                   class_mode = 'binary')\n"
   ]
  },
  {
   "cell_type": "code",
   "execution_count": 6,
   "id": "9b5d711b",
   "metadata": {},
   "outputs": [
    {
     "name": "stderr",
     "output_type": "stream",
     "text": [
      "C:\\Users\\李伟豪\\AppData\\Roaming\\Python\\Python38\\site-packages\\tensorflow\\python\\keras\\engine\\training.py:1940: UserWarning: `Model.fit_generator` is deprecated and will be removed in a future version. Please use `Model.fit`, which supports generators.\n",
      "  warnings.warn('`Model.fit_generator` is deprecated and '\n"
     ]
    },
    {
     "name": "stdout",
     "output_type": "stream",
     "text": [
      "Epoch 1/30\n",
      "100/100 [==============================] - 29s 279ms/step - loss: 0.6931 - acc: 0.5350 - val_loss: 0.6647 - val_acc: 0.6250\n",
      "Epoch 2/30\n",
      "100/100 [==============================] - 28s 281ms/step - loss: 0.6558 - acc: 0.6110 - val_loss: 0.6252 - val_acc: 0.6500\n",
      "Epoch 3/30\n",
      "100/100 [==============================] - 28s 278ms/step - loss: 0.6006 - acc: 0.6790 - val_loss: 0.5956 - val_acc: 0.6840\n",
      "Epoch 4/30\n",
      "100/100 [==============================] - 26s 263ms/step - loss: 0.5575 - acc: 0.7165 - val_loss: 0.6422 - val_acc: 0.6480\n",
      "Epoch 5/30\n",
      "100/100 [==============================] - 26s 262ms/step - loss: 0.5342 - acc: 0.7175 - val_loss: 0.6742 - val_acc: 0.6160\n",
      "Epoch 6/30\n",
      "100/100 [==============================] - 26s 259ms/step - loss: 0.4962 - acc: 0.7555 - val_loss: 0.5919 - val_acc: 0.6830\n",
      "Epoch 7/30\n",
      "100/100 [==============================] - 26s 261ms/step - loss: 0.4699 - acc: 0.7830 - val_loss: 0.5819 - val_acc: 0.7020\n",
      "Epoch 8/30\n",
      "100/100 [==============================] - 27s 268ms/step - loss: 0.4322 - acc: 0.7930 - val_loss: 0.5763 - val_acc: 0.7010\n",
      "Epoch 9/30\n",
      "100/100 [==============================] - 26s 264ms/step - loss: 0.4124 - acc: 0.8145 - val_loss: 0.5668 - val_acc: 0.7100\n",
      "Epoch 10/30\n",
      "100/100 [==============================] - 28s 278ms/step - loss: 0.3794 - acc: 0.8355 - val_loss: 0.5598 - val_acc: 0.7090\n",
      "Epoch 11/30\n",
      "100/100 [==============================] - 28s 282ms/step - loss: 0.3552 - acc: 0.8345 - val_loss: 0.5873 - val_acc: 0.7140\n",
      "Epoch 12/30\n",
      "100/100 [==============================] - 27s 269ms/step - loss: 0.3295 - acc: 0.8540 - val_loss: 0.5723 - val_acc: 0.7380\n",
      "Epoch 13/30\n",
      "100/100 [==============================] - 28s 278ms/step - loss: 0.2966 - acc: 0.8855 - val_loss: 0.6837 - val_acc: 0.6810\n",
      "Epoch 14/30\n",
      "100/100 [==============================] - 27s 269ms/step - loss: 0.2761 - acc: 0.8840 - val_loss: 0.6016 - val_acc: 0.7310\n",
      "Epoch 15/30\n",
      "100/100 [==============================] - 26s 261ms/step - loss: 0.2580 - acc: 0.8955 - val_loss: 0.6761 - val_acc: 0.7180\n",
      "Epoch 16/30\n",
      "100/100 [==============================] - 26s 259ms/step - loss: 0.2201 - acc: 0.9205 - val_loss: 0.6619 - val_acc: 0.7260\n",
      "Epoch 17/30\n",
      "100/100 [==============================] - 28s 275ms/step - loss: 0.1980 - acc: 0.9265 - val_loss: 0.6753 - val_acc: 0.7210\n",
      "Epoch 18/30\n",
      "100/100 [==============================] - 28s 284ms/step - loss: 0.1850 - acc: 0.9320 - val_loss: 0.7146 - val_acc: 0.7140\n",
      "Epoch 19/30\n",
      "100/100 [==============================] - 29s 291ms/step - loss: 0.1591 - acc: 0.9405 - val_loss: 0.7329 - val_acc: 0.7190\n",
      "Epoch 20/30\n",
      "100/100 [==============================] - 29s 290ms/step - loss: 0.1344 - acc: 0.9570 - val_loss: 0.8772 - val_acc: 0.7210\n",
      "Epoch 21/30\n",
      "100/100 [==============================] - 28s 281ms/step - loss: 0.1243 - acc: 0.9600 - val_loss: 0.8062 - val_acc: 0.7310\n",
      "Epoch 22/30\n",
      "100/100 [==============================] - 27s 271ms/step - loss: 0.1057 - acc: 0.9655 - val_loss: 0.8128 - val_acc: 0.7460\n",
      "Epoch 23/30\n",
      "100/100 [==============================] - 28s 279ms/step - loss: 0.0829 - acc: 0.9765 - val_loss: 0.9023 - val_acc: 0.7270\n",
      "Epoch 24/30\n",
      "100/100 [==============================] - 28s 277ms/step - loss: 0.0735 - acc: 0.9765 - val_loss: 0.9450 - val_acc: 0.6890\n",
      "Epoch 25/30\n",
      "100/100 [==============================] - 27s 268ms/step - loss: 0.0667 - acc: 0.9805 - val_loss: 0.8605 - val_acc: 0.7320\n",
      "Epoch 26/30\n",
      "100/100 [==============================] - 27s 268ms/step - loss: 0.0452 - acc: 0.9880 - val_loss: 1.1285 - val_acc: 0.7120\n",
      "Epoch 27/30\n",
      "100/100 [==============================] - 27s 271ms/step - loss: 0.0516 - acc: 0.9860 - val_loss: 1.0060 - val_acc: 0.7290\n",
      "Epoch 28/30\n",
      "100/100 [==============================] - 29s 289ms/step - loss: 0.0346 - acc: 0.9895 - val_loss: 1.0659 - val_acc: 0.7370\n",
      "Epoch 29/30\n",
      "100/100 [==============================] - 28s 280ms/step - loss: 0.0328 - acc: 0.9895 - val_loss: 1.0539 - val_acc: 0.7500\n",
      "Epoch 30/30\n",
      "100/100 [==============================] - 28s 278ms/step - loss: 0.0291 - acc: 0.9930 - val_loss: 1.1503 - val_acc: 0.7340\n"
     ]
    }
   ],
   "source": [
    "history = model.fit_generator(train_generator,\n",
    "                             steps_per_epoch= 100,      #每个批量包含 20 个样本，所以读取完所有 2000 个样本需要 100个批量\n",
    "                             epochs= 30,\n",
    "                             validation_data=validation_generator,\n",
    "                             validation_steps= 50)\n",
    "model.save('cat_vs_dog_1.h5')"
   ]
  },
  {
   "cell_type": "code",
   "execution_count": 7,
   "id": "81b7fa76",
   "metadata": {},
   "outputs": [
    {
     "data": {
      "text/plain": [
       "<matplotlib.legend.Legend at 0x14c4c470640>"
      ]
     },
     "execution_count": 7,
     "metadata": {},
     "output_type": "execute_result"
    },
    {
     "data": {
      "image/png": "[encoded data removed]",
      "text/plain": [
       "<Figure size 432x288 with 1 Axes>"
      ]
     },
     "metadata": {
      "needs_background": "light"
     },
     "output_type": "display_data"
    }
   ],
   "source": [
    "#绘制曲线\n",
    "epochs = range(1, len(history.history['acc'])+1)\n",
    "plt.plot(epochs, history.history['acc'], label = 'training acc')\n",
    "plt.plot(epochs, history.history['val_acc'], label = 'validation acc')\n",
    "plt.title('accuracy')\n",
    "plt.legend()"
   ]
  },
  {
   "cell_type": "code",
   "execution_count": 9,
   "id": "bc4b9cbb",
   "metadata": {},
   "outputs": [
    {
     "data": {
      "text/plain": [
       "<matplotlib.legend.Legend at 0x14c4c97c970>"
      ]
     },
     "execution_count": 9,
     "metadata": {},
     "output_type": "execute_result"
    },
    {
     "data": {
      "image/png": "[encoded data removed]",
      "text/plain": [
       "<Figure size 432x288 with 1 Axes>"
      ]
     },
     "metadata": {
      "needs_background": "light"
     },
     "output_type": "display_data"
    }
   ],
   "source": [
    "plt.plot(epochs, history.history['loss'], label = 'training loss')\n",
    "plt.plot(epochs, history.history['val_loss'], label = 'validation loss')\n",
    "plt.title('loss')\n",
    "plt.legend()"
   ]
  },
  {
   "cell_type": "code",
   "execution_count": 3,
   "id": "82589039",
   "metadata": {},
   "outputs": [
    {
     "name": "stderr",
     "output_type": "stream",
     "text": [
      "C:\\Users\\李伟豪\\AppData\\Roaming\\Python\\Python38\\site-packages\\tensorflow\\python\\keras\\optimizer_v2\\optimizer_v2.py:374: UserWarning: The `lr` argument is deprecated, use `learning_rate` instead.\n",
      "  warnings.warn(\n"
     ]
    },
    {
     "name": "stdout",
     "output_type": "stream",
     "text": [
      "Found 2000 images belonging to 2 classes.\n",
      "Found 1000 images belonging to 2 classes.\n"
     ]
    },
    {
     "name": "stderr",
     "output_type": "stream",
     "text": [
      "C:\\Users\\李伟豪\\AppData\\Roaming\\Python\\Python38\\site-packages\\tensorflow\\python\\keras\\engine\\training.py:1940: UserWarning: `Model.fit_generator` is deprecated and will be removed in a future version. Please use `Model.fit`, which supports generators.\n",
      "  warnings.warn('`Model.fit_generator` is deprecated and '\n"
     ]
    },
    {
     "name": "stdout",
     "output_type": "stream",
     "text": [
      "Epoch 1/100\n",
      "63/63 [==============================] - 26s 405ms/step - loss: 0.6936 - acc: 0.5085 - val_loss: 0.6864 - val_acc: 0.5010\n",
      "Epoch 2/100\n",
      "63/63 [==============================] - 25s 400ms/step - loss: 0.6849 - acc: 0.5350 - val_loss: 0.6648 - val_acc: 0.5840\n",
      "Epoch 3/100\n",
      "63/63 [==============================] - 28s 445ms/step - loss: 0.6714 - acc: 0.5845 - val_loss: 0.6517 - val_acc: 0.5950\n",
      "Epoch 4/100\n",
      "63/63 [==============================] - 27s 434ms/step - loss: 0.6707 - acc: 0.5805 - val_loss: 0.6518 - val_acc: 0.5990\n",
      "Epoch 5/100\n",
      "63/63 [==============================] - 26s 403ms/step - loss: 0.6672 - acc: 0.5725 - val_loss: 0.6474 - val_acc: 0.6070\n",
      "Epoch 6/100\n",
      "63/63 [==============================] - 25s 395ms/step - loss: 0.6533 - acc: 0.6070 - val_loss: 0.6742 - val_acc: 0.5830\n",
      "Epoch 7/100\n",
      "63/63 [==============================] - 25s 398ms/step - loss: 0.6513 - acc: 0.6105 - val_loss: 0.6168 - val_acc: 0.6570\n",
      "Epoch 8/100\n",
      "63/63 [==============================] - 25s 397ms/step - loss: 0.6373 - acc: 0.6210 - val_loss: 0.6371 - val_acc: 0.6170\n",
      "Epoch 9/100\n",
      "63/63 [==============================] - 27s 424ms/step - loss: 0.6312 - acc: 0.6310 - val_loss: 0.5978 - val_acc: 0.6750\n",
      "Epoch 10/100\n",
      "63/63 [==============================] - 29s 457ms/step - loss: 0.6122 - acc: 0.6530 - val_loss: 0.5839 - val_acc: 0.6790\n",
      "Epoch 11/100\n",
      "63/63 [==============================] - 28s 448ms/step - loss: 0.6201 - acc: 0.6495 - val_loss: 0.5952 - val_acc: 0.6630\n",
      "Epoch 12/100\n",
      "63/63 [==============================] - 27s 428ms/step - loss: 0.6004 - acc: 0.6765 - val_loss: 0.5666 - val_acc: 0.6950\n",
      "Epoch 13/100\n",
      "63/63 [==============================] - 27s 424ms/step - loss: 0.6016 - acc: 0.6695 - val_loss: 0.5588 - val_acc: 0.7020\n",
      "Epoch 14/100\n",
      "63/63 [==============================] - 25s 402ms/step - loss: 0.5828 - acc: 0.6865 - val_loss: 0.5537 - val_acc: 0.7060\n",
      "Epoch 15/100\n",
      "63/63 [==============================] - 25s 402ms/step - loss: 0.5920 - acc: 0.6790 - val_loss: 0.5512 - val_acc: 0.7080\n",
      "Epoch 16/100\n",
      "63/63 [==============================] - 26s 406ms/step - loss: 0.5721 - acc: 0.7015 - val_loss: 0.5575 - val_acc: 0.6930\n",
      "Epoch 17/100\n",
      "63/63 [==============================] - 25s 402ms/step - loss: 0.5754 - acc: 0.6960 - val_loss: 0.5420 - val_acc: 0.7250\n",
      "Epoch 18/100\n",
      "63/63 [==============================] - 26s 419ms/step - loss: 0.5702 - acc: 0.6920 - val_loss: 0.5363 - val_acc: 0.7270\n",
      "Epoch 19/100\n",
      "63/63 [==============================] - 27s 428ms/step - loss: 0.5607 - acc: 0.7125 - val_loss: 0.5824 - val_acc: 0.6870\n",
      "Epoch 20/100\n",
      "63/63 [==============================] - 27s 423ms/step - loss: 0.5626 - acc: 0.7075 - val_loss: 0.5332 - val_acc: 0.7290\n",
      "Epoch 21/100\n",
      "63/63 [==============================] - 26s 406ms/step - loss: 0.5497 - acc: 0.7185 - val_loss: 0.5307 - val_acc: 0.7240\n",
      "Epoch 22/100\n",
      "63/63 [==============================] - 26s 412ms/step - loss: 0.5460 - acc: 0.7135 - val_loss: 0.5964 - val_acc: 0.6900\n",
      "Epoch 23/100\n",
      "63/63 [==============================] - 25s 400ms/step - loss: 0.5478 - acc: 0.7230 - val_loss: 0.5347 - val_acc: 0.7280\n",
      "Epoch 24/100\n",
      "63/63 [==============================] - 25s 396ms/step - loss: 0.5477 - acc: 0.7175 - val_loss: 0.5480 - val_acc: 0.7090\n",
      "Epoch 25/100\n",
      "63/63 [==============================] - 25s 395ms/step - loss: 0.5289 - acc: 0.7295 - val_loss: 0.5334 - val_acc: 0.7240\n",
      "Epoch 26/100\n",
      "63/63 [==============================] - 25s 397ms/step - loss: 0.5430 - acc: 0.7260 - val_loss: 0.5295 - val_acc: 0.7200\n",
      "Epoch 27/100\n",
      "63/63 [==============================] - 25s 397ms/step - loss: 0.5413 - acc: 0.7310 - val_loss: 0.5576 - val_acc: 0.7080\n",
      "Epoch 28/100\n",
      "63/63 [==============================] - 25s 397ms/step - loss: 0.5211 - acc: 0.7445 - val_loss: 0.5268 - val_acc: 0.7230\n",
      "Epoch 29/100\n",
      "63/63 [==============================] - 25s 398ms/step - loss: 0.5378 - acc: 0.7225 - val_loss: 0.5432 - val_acc: 0.7170\n",
      "Epoch 30/100\n",
      "63/63 [==============================] - 25s 397ms/step - loss: 0.5135 - acc: 0.7410 - val_loss: 0.5164 - val_acc: 0.7370\n",
      "Epoch 31/100\n",
      "63/63 [==============================] - 25s 402ms/step - loss: 0.5182 - acc: 0.7405 - val_loss: 0.4996 - val_acc: 0.7470\n",
      "Epoch 32/100\n",
      "63/63 [==============================] - 26s 408ms/step - loss: 0.5268 - acc: 0.7395 - val_loss: 0.4933 - val_acc: 0.7560\n",
      "Epoch 33/100\n",
      "63/63 [==============================] - 27s 421ms/step - loss: 0.5188 - acc: 0.7430 - val_loss: 0.5116 - val_acc: 0.7350\n",
      "Epoch 34/100\n",
      "63/63 [==============================] - 26s 413ms/step - loss: 0.5194 - acc: 0.7495 - val_loss: 0.5356 - val_acc: 0.7230\n",
      "Epoch 35/100\n",
      "63/63 [==============================] - 27s 428ms/step - loss: 0.5157 - acc: 0.7490 - val_loss: 0.5026 - val_acc: 0.7470\n",
      "Epoch 36/100\n",
      "63/63 [==============================] - 26s 414ms/step - loss: 0.5085 - acc: 0.7430 - val_loss: 0.5311 - val_acc: 0.7290\n",
      "Epoch 37/100\n",
      "63/63 [==============================] - 26s 405ms/step - loss: 0.5106 - acc: 0.7515 - val_loss: 0.5344 - val_acc: 0.7240\n",
      "Epoch 38/100\n",
      "63/63 [==============================] - 25s 396ms/step - loss: 0.5248 - acc: 0.7330 - val_loss: 0.5576 - val_acc: 0.7110\n",
      "Epoch 39/100\n",
      "63/63 [==============================] - 25s 398ms/step - loss: 0.5113 - acc: 0.7520 - val_loss: 0.5235 - val_acc: 0.7320\n",
      "Epoch 40/100\n",
      "63/63 [==============================] - 25s 399ms/step - loss: 0.5105 - acc: 0.7625 - val_loss: 0.5235 - val_acc: 0.7450\n",
      "Epoch 41/100\n",
      "63/63 [==============================] - 26s 411ms/step - loss: 0.4946 - acc: 0.7535 - val_loss: 0.5109 - val_acc: 0.7520\n",
      "Epoch 42/100\n",
      "63/63 [==============================] - 25s 402ms/step - loss: 0.5086 - acc: 0.7475 - val_loss: 0.5103 - val_acc: 0.7440\n",
      "Epoch 43/100\n",
      "63/63 [==============================] - 25s 397ms/step - loss: 0.4993 - acc: 0.7540 - val_loss: 0.5402 - val_acc: 0.7260\n",
      "Epoch 44/100\n",
      "63/63 [==============================] - 25s 400ms/step - loss: 0.5045 - acc: 0.7555 - val_loss: 0.5636 - val_acc: 0.7380\n",
      "Epoch 45/100\n",
      "63/63 [==============================] - 25s 397ms/step - loss: 0.5058 - acc: 0.7605 - val_loss: 0.4851 - val_acc: 0.7630\n",
      "Epoch 46/100\n",
      "63/63 [==============================] - 25s 399ms/step - loss: 0.5030 - acc: 0.7540 - val_loss: 0.5457 - val_acc: 0.7200\n",
      "Epoch 47/100\n",
      "63/63 [==============================] - 25s 399ms/step - loss: 0.4848 - acc: 0.7635 - val_loss: 0.4919 - val_acc: 0.7480\n",
      "Epoch 48/100\n",
      "63/63 [==============================] - 25s 396ms/step - loss: 0.4916 - acc: 0.7550 - val_loss: 0.4764 - val_acc: 0.7690\n",
      "Epoch 49/100\n",
      "63/63 [==============================] - 25s 399ms/step - loss: 0.4885 - acc: 0.7725 - val_loss: 0.5182 - val_acc: 0.7460\n",
      "Epoch 50/100\n",
      "63/63 [==============================] - 25s 400ms/step - loss: 0.4843 - acc: 0.7565 - val_loss: 0.4869 - val_acc: 0.7540\n",
      "Epoch 51/100\n",
      "63/63 [==============================] - 26s 404ms/step - loss: 0.4852 - acc: 0.7675 - val_loss: 0.4844 - val_acc: 0.7600\n",
      "Epoch 52/100\n",
      "63/63 [==============================] - 25s 395ms/step - loss: 0.4792 - acc: 0.7655 - val_loss: 0.4875 - val_acc: 0.7580\n",
      "Epoch 53/100\n",
      "63/63 [==============================] - 25s 395ms/step - loss: 0.4688 - acc: 0.7705 - val_loss: 0.4838 - val_acc: 0.7620\n",
      "Epoch 54/100\n",
      "63/63 [==============================] - 25s 396ms/step - loss: 0.4741 - acc: 0.7740 - val_loss: 0.4706 - val_acc: 0.7680\n",
      "Epoch 55/100\n",
      "63/63 [==============================] - 25s 396ms/step - loss: 0.4786 - acc: 0.7715 - val_loss: 0.4758 - val_acc: 0.7680\n",
      "Epoch 56/100\n",
      "63/63 [==============================] - 26s 414ms/step - loss: 0.4663 - acc: 0.7755 - val_loss: 0.5392 - val_acc: 0.7410\n",
      "Epoch 57/100\n",
      "63/63 [==============================] - 26s 417ms/step - loss: 0.4760 - acc: 0.7695 - val_loss: 0.4967 - val_acc: 0.7590\n",
      "Epoch 58/100\n",
      "63/63 [==============================] - 25s 401ms/step - loss: 0.4618 - acc: 0.7730 - val_loss: 0.4644 - val_acc: 0.7800\n",
      "Epoch 59/100\n",
      "63/63 [==============================] - 25s 399ms/step - loss: 0.4672 - acc: 0.7845 - val_loss: 0.4609 - val_acc: 0.7730\n",
      "Epoch 60/100\n",
      "63/63 [==============================] - 26s 411ms/step - loss: 0.4684 - acc: 0.7775 - val_loss: 0.4574 - val_acc: 0.7810\n",
      "Epoch 61/100\n",
      "63/63 [==============================] - 27s 420ms/step - loss: 0.4665 - acc: 0.7840 - val_loss: 0.4808 - val_acc: 0.7710\n"
     ]
    },
    {
     "name": "stdout",
     "output_type": "stream",
     "text": [
      "Epoch 62/100\n",
      "63/63 [==============================] - 27s 424ms/step - loss: 0.4618 - acc: 0.7755 - val_loss: 0.4785 - val_acc: 0.7670\n",
      "Epoch 63/100\n",
      "63/63 [==============================] - 26s 405ms/step - loss: 0.4558 - acc: 0.7820 - val_loss: 0.4999 - val_acc: 0.7560\n",
      "Epoch 64/100\n",
      "63/63 [==============================] - 26s 407ms/step - loss: 0.4614 - acc: 0.7845 - val_loss: 0.4580 - val_acc: 0.7870\n",
      "Epoch 65/100\n",
      "63/63 [==============================] - 26s 414ms/step - loss: 0.4637 - acc: 0.7865 - val_loss: 0.4571 - val_acc: 0.7840\n",
      "Epoch 66/100\n",
      "63/63 [==============================] - 26s 415ms/step - loss: 0.4550 - acc: 0.7825 - val_loss: 0.4706 - val_acc: 0.7790\n",
      "Epoch 67/100\n",
      "63/63 [==============================] - 27s 431ms/step - loss: 0.4458 - acc: 0.7910 - val_loss: 0.4565 - val_acc: 0.7850\n",
      "Epoch 68/100\n",
      "63/63 [==============================] - 27s 433ms/step - loss: 0.4540 - acc: 0.7875 - val_loss: 0.4870 - val_acc: 0.7650\n",
      "Epoch 69/100\n",
      "63/63 [==============================] - 27s 426ms/step - loss: 0.4613 - acc: 0.7735 - val_loss: 0.4452 - val_acc: 0.7920\n",
      "Epoch 70/100\n",
      "63/63 [==============================] - 26s 417ms/step - loss: 0.4293 - acc: 0.7965 - val_loss: 0.4382 - val_acc: 0.7910\n",
      "Epoch 71/100\n",
      "63/63 [==============================] - 25s 399ms/step - loss: 0.4384 - acc: 0.7970 - val_loss: 0.4862 - val_acc: 0.7730\n",
      "Epoch 72/100\n",
      "63/63 [==============================] - 26s 412ms/step - loss: 0.4512 - acc: 0.7855 - val_loss: 0.4342 - val_acc: 0.7940\n",
      "Epoch 73/100\n",
      "63/63 [==============================] - 26s 414ms/step - loss: 0.4425 - acc: 0.7860 - val_loss: 0.4829 - val_acc: 0.7630\n",
      "Epoch 74/100\n",
      "63/63 [==============================] - 26s 405ms/step - loss: 0.4430 - acc: 0.7875 - val_loss: 0.5005 - val_acc: 0.7670\n",
      "Epoch 75/100\n",
      "63/63 [==============================] - 26s 414ms/step - loss: 0.4456 - acc: 0.7880 - val_loss: 0.4451 - val_acc: 0.7740\n",
      "Epoch 76/100\n",
      "63/63 [==============================] - 27s 426ms/step - loss: 0.4509 - acc: 0.7835 - val_loss: 0.4494 - val_acc: 0.7880\n",
      "Epoch 77/100\n",
      "63/63 [==============================] - 27s 420ms/step - loss: 0.4426 - acc: 0.7870 - val_loss: 0.4799 - val_acc: 0.7840\n",
      "Epoch 78/100\n",
      "63/63 [==============================] - 26s 411ms/step - loss: 0.4556 - acc: 0.7850 - val_loss: 0.4844 - val_acc: 0.7780\n",
      "Epoch 79/100\n",
      "63/63 [==============================] - 26s 415ms/step - loss: 0.4288 - acc: 0.8105 - val_loss: 0.6696 - val_acc: 0.7070\n",
      "Epoch 80/100\n",
      "63/63 [==============================] - 26s 417ms/step - loss: 0.4400 - acc: 0.7845 - val_loss: 0.4741 - val_acc: 0.7930\n",
      "Epoch 81/100\n",
      "63/63 [==============================] - 26s 404ms/step - loss: 0.4294 - acc: 0.8025 - val_loss: 0.4909 - val_acc: 0.7650\n",
      "Epoch 82/100\n",
      "63/63 [==============================] - 26s 405ms/step - loss: 0.4208 - acc: 0.8005 - val_loss: 0.4207 - val_acc: 0.8110\n",
      "Epoch 83/100\n",
      "63/63 [==============================] - 26s 407ms/step - loss: 0.4221 - acc: 0.8065 - val_loss: 0.4863 - val_acc: 0.7710\n",
      "Epoch 84/100\n",
      "63/63 [==============================] - 26s 411ms/step - loss: 0.4228 - acc: 0.7945 - val_loss: 0.4354 - val_acc: 0.8000\n",
      "Epoch 85/100\n",
      "63/63 [==============================] - 26s 418ms/step - loss: 0.4245 - acc: 0.8010 - val_loss: 0.4570 - val_acc: 0.7950\n",
      "Epoch 86/100\n",
      "63/63 [==============================] - 26s 413ms/step - loss: 0.4230 - acc: 0.7990 - val_loss: 0.5025 - val_acc: 0.7630\n",
      "Epoch 87/100\n",
      "63/63 [==============================] - 26s 416ms/step - loss: 0.4211 - acc: 0.8080 - val_loss: 0.4482 - val_acc: 0.8050\n",
      "Epoch 88/100\n",
      "63/63 [==============================] - 26s 409ms/step - loss: 0.4337 - acc: 0.8005 - val_loss: 0.4130 - val_acc: 0.8110\n",
      "Epoch 89/100\n",
      "63/63 [==============================] - 26s 412ms/step - loss: 0.4246 - acc: 0.7950 - val_loss: 0.4433 - val_acc: 0.8130\n",
      "Epoch 90/100\n",
      "63/63 [==============================] - 26s 415ms/step - loss: 0.4215 - acc: 0.8005 - val_loss: 0.4887 - val_acc: 0.7850\n",
      "Epoch 91/100\n",
      "63/63 [==============================] - 26s 414ms/step - loss: 0.4092 - acc: 0.8160 - val_loss: 0.4731 - val_acc: 0.7750\n",
      "Epoch 92/100\n",
      "63/63 [==============================] - 26s 418ms/step - loss: 0.4227 - acc: 0.8010 - val_loss: 0.5026 - val_acc: 0.7690\n",
      "Epoch 93/100\n",
      "63/63 [==============================] - 29s 465ms/step - loss: 0.4166 - acc: 0.7975 - val_loss: 0.4578 - val_acc: 0.7900\n",
      "Epoch 94/100\n",
      "63/63 [==============================] - 27s 430ms/step - loss: 0.4226 - acc: 0.8025 - val_loss: 0.4249 - val_acc: 0.8140\n",
      "Epoch 95/100\n",
      "63/63 [==============================] - 26s 410ms/step - loss: 0.4074 - acc: 0.8120 - val_loss: 0.4700 - val_acc: 0.8010\n",
      "Epoch 96/100\n",
      "63/63 [==============================] - 25s 398ms/step - loss: 0.4097 - acc: 0.8185 - val_loss: 0.4420 - val_acc: 0.8020\n",
      "Epoch 97/100\n",
      "63/63 [==============================] - 25s 400ms/step - loss: 0.4141 - acc: 0.8120 - val_loss: 0.5068 - val_acc: 0.7560\n",
      "Epoch 98/100\n",
      "63/63 [==============================] - 25s 396ms/step - loss: 0.4069 - acc: 0.8170 - val_loss: 0.5177 - val_acc: 0.7710\n",
      "Epoch 99/100\n",
      "63/63 [==============================] - 25s 397ms/step - loss: 0.4159 - acc: 0.8045 - val_loss: 0.4074 - val_acc: 0.8250\n",
      "Epoch 100/100\n",
      "63/63 [==============================] - 25s 398ms/step - loss: 0.4034 - acc: 0.8100 - val_loss: 0.4181 - val_acc: 0.8210\n"
     ]
    }
   ],
   "source": [
    "#使用数据增强和正则化重新构造模型，来降低过拟合\n",
    "model = models.Sequential()\n",
    "model.add(layers.Conv2D(32, (3, 3), activation='relu',\n",
    " input_shape=(150, 150, 3)))\n",
    "model.add(layers.MaxPooling2D((2, 2)))\n",
    "model.add(layers.Conv2D(64, (3, 3), activation='relu'))\n",
    "model.add(layers.MaxPooling2D((2, 2)))\n",
    "model.add(layers.Conv2D(128, (3, 3), activation='relu'))\n",
    "model.add(layers.MaxPooling2D((2, 2)))\n",
    "model.add(layers.Conv2D(128, (3, 3), activation='relu'))\n",
    "model.add(layers.MaxPooling2D((2, 2)))\n",
    "model.add(layers.Flatten())\n",
    "model.add(layers.Dropout(0.5))             #添加dropout层正则化\n",
    "model.add(layers.Dense(512, activation='relu'))\n",
    "model.add(layers.Dense(1, activation='sigmoid'))\n",
    "\n",
    "model.compile(loss='binary_crossentropy',\n",
    "optimizer=optimizers.RMSprop(lr=1e-4),\n",
    "metrics=['acc'])\n",
    "\n",
    "train_datagen = ImageDataGenerator(\n",
    "rescale=1./255,\n",
    "rotation_range=40,          #数据增强\n",
    "width_shift_range=0.2,\n",
    "height_shift_range=0.2,\n",
    "shear_range=0.2,\n",
    "zoom_range=0.2,\n",
    "horizontal_flip=True,)\n",
    "\n",
    "test_datagen = ImageDataGenerator(rescale=1./255)   #不能对测试集进行数据增强\n",
    "\n",
    "train_generator = train_datagen.flow_from_directory(train_dir,\n",
    " target_size=(150, 150), \n",
    " batch_size=32,\n",
    " class_mode='binary')\n",
    "\n",
    "validation_generator = test_datagen.flow_from_directory(\n",
    " validation_dir,\n",
    " target_size=(150, 150),\n",
    " batch_size=32,\n",
    " class_mode='binary')\n",
    "\n",
    "history = model.fit_generator(\n",
    " train_generator,\n",
    " steps_per_epoch=63,\n",
    " epochs=100,\n",
    " validation_data=validation_generator,\n",
    " validation_steps=32)\n",
    "\n",
    "model.save('cat_vs_dog_2.h5')"
   ]
  },
  {
   "cell_type": "code",
   "execution_count": 4,
   "id": "c77993c3",
   "metadata": {},
   "outputs": [
    {
     "data": {
      "text/plain": [
       "<matplotlib.legend.Legend at 0x18882296670>"
      ]
     },
     "execution_count": 4,
     "metadata": {},
     "output_type": "execute_result"
    },
    {
     "data": {
      "image/png": "[encoded data removed]",
      "text/plain": [
       "<Figure size 432x288 with 1 Axes>"
      ]
     },
     "metadata": {
      "needs_background": "light"
     },
     "output_type": "display_data"
    }
   ],
   "source": [
    "#绘制曲线\n",
    "epochs = range(1, len(history.history['acc'])+1)\n",
    "plt.plot(epochs, history.history['acc'], label = 'training acc')\n",
    "plt.plot(epochs, history.history['val_acc'], label = 'validation acc')\n",
    "plt.title('accuracy')\n",
    "plt.legend()"
   ]
  },
  {
   "cell_type": "code",
   "execution_count": 5,
   "id": "c00a2086",
   "metadata": {},
   "outputs": [
    {
     "data": {
      "text/plain": [
       "<matplotlib.legend.Legend at 0x188c3660ca0>"
      ]
     },
     "execution_count": 5,
     "metadata": {},
     "output_type": "execute_result"
    },
    {
     "data": {
      "image/png": "[encoded data removed]",
      "text/plain": [
       "<Figure size 432x288 with 1 Axes>"
      ]
     },
     "metadata": {
      "needs_background": "light"
     },
     "output_type": "display_data"
    }
   ],
   "source": [
    "plt.plot(epochs, history.history['loss'], label = 'training loss')\n",
    "plt.plot(epochs, history.history['val_loss'], label = 'validation loss')\n",
    "plt.title('loss')\n",
    "plt.legend()"
   ]
  },
  {
   "cell_type": "code",
   "execution_count": 10,
   "id": "075f210e",
   "metadata": {},
   "outputs": [
    {
     "name": "stdout",
     "output_type": "stream",
     "text": [
      "Model: \"vgg16\"\n",
      "_________________________________________________________________\n",
      "Layer (type)                 Output Shape              Param #   \n",
      "=================================================================\n",
      "input_2 (InputLayer)         [(None, 150, 150, 3)]     0         \n",
      "_________________________________________________________________\n",
      "block1_conv1 (Conv2D)        (None, 150, 150, 64)      1792      \n",
      "_________________________________________________________________\n",
      "block1_conv2 (Conv2D)        (None, 150, 150, 64)      36928     \n",
      "_________________________________________________________________\n",
      "block1_pool (MaxPooling2D)   (None, 75, 75, 64)        0         \n",
      "_________________________________________________________________\n",
      "block2_conv1 (Conv2D)        (None, 75, 75, 128)       73856     \n",
      "_________________________________________________________________\n",
      "block2_conv2 (Conv2D)        (None, 75, 75, 128)       147584    \n",
      "_________________________________________________________________\n",
      "block2_pool (MaxPooling2D)   (None, 37, 37, 128)       0         \n",
      "_________________________________________________________________\n",
      "block3_conv1 (Conv2D)        (None, 37, 37, 256)       295168    \n",
      "_________________________________________________________________\n",
      "block3_conv2 (Conv2D)        (None, 37, 37, 256)       590080    \n",
      "_________________________________________________________________\n",
      "block3_conv3 (Conv2D)        (None, 37, 37, 256)       590080    \n",
      "_________________________________________________________________\n",
      "block3_pool (MaxPooling2D)   (None, 18, 18, 256)       0         \n",
      "_________________________________________________________________\n",
      "block4_conv1 (Conv2D)        (None, 18, 18, 512)       1180160   \n",
      "_________________________________________________________________\n",
      "block4_conv2 (Conv2D)        (None, 18, 18, 512)       2359808   \n",
      "_________________________________________________________________\n",
      "block4_conv3 (Conv2D)        (None, 18, 18, 512)       2359808   \n",
      "_________________________________________________________________\n",
      "block4_pool (MaxPooling2D)   (None, 9, 9, 512)         0         \n",
      "_________________________________________________________________\n",
      "block5_conv1 (Conv2D)        (None, 9, 9, 512)         2359808   \n",
      "_________________________________________________________________\n",
      "block5_conv2 (Conv2D)        (None, 9, 9, 512)         2359808   \n",
      "_________________________________________________________________\n",
      "block5_conv3 (Conv2D)        (None, 9, 9, 512)         2359808   \n",
      "_________________________________________________________________\n",
      "block5_pool (MaxPooling2D)   (None, 4, 4, 512)         0         \n",
      "=================================================================\n",
      "Total params: 14,714,688\n",
      "Trainable params: 14,714,688\n",
      "Non-trainable params: 0\n",
      "_________________________________________________________________\n"
     ]
    }
   ],
   "source": [
    "#使用预训练的卷积神经网络\n",
    "#1. 特征提取(使用数据增强)\n",
    "from tensorflow.keras.applications import VGG16\n",
    "\n",
    "conv_base = VGG16(weights = 'imagenet',     #模型初始化的权重检查点\n",
    "                 include_top = False,          #不使用其中的密集连接分类器\n",
    "                 input_shape= (150, 150,3))\n",
    "                  \n",
    "conv_base.summary()"
   ]
  },
  {
   "cell_type": "code",
   "execution_count": 11,
   "id": "d0bdf239",
   "metadata": {},
   "outputs": [],
   "source": [
    "#扩展模型\n",
    "model = models.Sequential()\n",
    "model.add(conv_base)\n",
    "model.add(layers.Flatten())\n",
    "model.add(layers.Dense(256, activation='relu'))\n",
    "model.add(layers.Dense(1, activation='sigmoid'))"
   ]
  },
  {
   "cell_type": "code",
   "execution_count": 12,
   "id": "51159c0f",
   "metadata": {},
   "outputs": [
    {
     "name": "stderr",
     "output_type": "stream",
     "text": [
      "C:\\Users\\李伟豪\\AppData\\Roaming\\Python\\Python38\\site-packages\\tensorflow\\python\\keras\\optimizer_v2\\optimizer_v2.py:374: UserWarning: The `lr` argument is deprecated, use `learning_rate` instead.\n",
      "  warnings.warn(\n"
     ]
    }
   ],
   "source": [
    "#编译模型\n",
    "model.compile(loss = 'binary_crossentropy',       #二分类问题用二元交叉熵作为损失函数\n",
    "              optimizer = optimizers.RMSprop(lr=2e-5),\n",
    "              metrics = ['acc']\n",
    "             )\n",
    "\n",
    "conv_base.trainable = False    #冻结卷积基， 仅训练密集连接层的权重"
   ]
  },
  {
   "cell_type": "code",
   "execution_count": 13,
   "id": "4c069201",
   "metadata": {},
   "outputs": [
    {
     "name": "stderr",
     "output_type": "stream",
     "text": [
      "C:\\Users\\李伟豪\\AppData\\Roaming\\Python\\Python38\\site-packages\\tensorflow\\python\\keras\\engine\\training.py:1940: UserWarning: `Model.fit_generator` is deprecated and will be removed in a future version. Please use `Model.fit`, which supports generators.\n",
      "  warnings.warn('`Model.fit_generator` is deprecated and '\n"
     ]
    },
    {
     "name": "stdout",
     "output_type": "stream",
     "text": [
      "Epoch 1/30\n",
      "  5/100 [>.............................] - ETA: 5:30 - loss: 0.7930 - acc: 0.4722"
     ]
    },
    {
     "ename": "KeyboardInterrupt",
     "evalue": "",
     "output_type": "error",
     "traceback": [
      "\u001b[1;31m---------------------------------------------------------------------------\u001b[0m",
      "\u001b[1;31mKeyboardInterrupt\u001b[0m                         Traceback (most recent call last)",
      "\u001b[1;32m<ipython-input-13-01e87ebf5992>\u001b[0m in \u001b[0;36m<module>\u001b[1;34m\u001b[0m\n\u001b[1;32m----> 1\u001b[1;33m history = model.fit_generator(\n\u001b[0m\u001b[0;32m      2\u001b[0m  \u001b[0mtrain_generator\u001b[0m\u001b[1;33m,\u001b[0m\u001b[1;33m\u001b[0m\u001b[1;33m\u001b[0m\u001b[0m\n\u001b[0;32m      3\u001b[0m  \u001b[0msteps_per_epoch\u001b[0m\u001b[1;33m=\u001b[0m\u001b[1;36m100\u001b[0m\u001b[1;33m,\u001b[0m\u001b[1;33m\u001b[0m\u001b[1;33m\u001b[0m\u001b[0m\n\u001b[0;32m      4\u001b[0m  \u001b[0mepochs\u001b[0m\u001b[1;33m=\u001b[0m\u001b[1;36m30\u001b[0m\u001b[1;33m,\u001b[0m\u001b[1;33m\u001b[0m\u001b[1;33m\u001b[0m\u001b[0m\n\u001b[0;32m      5\u001b[0m  \u001b[0mvalidation_data\u001b[0m\u001b[1;33m=\u001b[0m\u001b[0mvalidation_generator\u001b[0m\u001b[1;33m,\u001b[0m\u001b[1;33m\u001b[0m\u001b[1;33m\u001b[0m\u001b[0m\n",
      "\u001b[1;32m~\\AppData\\Roaming\\Python\\Python38\\site-packages\\tensorflow\\python\\keras\\engine\\training.py\u001b[0m in \u001b[0;36mfit_generator\u001b[1;34m(self, generator, steps_per_epoch, epochs, verbose, callbacks, validation_data, validation_steps, validation_freq, class_weight, max_queue_size, workers, use_multiprocessing, shuffle, initial_epoch)\u001b[0m\n\u001b[0;32m   1941\u001b[0m                   \u001b[1;34m'will be removed in a future version. '\u001b[0m\u001b[1;33m\u001b[0m\u001b[1;33m\u001b[0m\u001b[0m\n\u001b[0;32m   1942\u001b[0m                   'Please use `Model.fit`, which supports generators.')\n\u001b[1;32m-> 1943\u001b[1;33m     return self.fit(\n\u001b[0m\u001b[0;32m   1944\u001b[0m         \u001b[0mgenerator\u001b[0m\u001b[1;33m,\u001b[0m\u001b[1;33m\u001b[0m\u001b[1;33m\u001b[0m\u001b[0m\n\u001b[0;32m   1945\u001b[0m         \u001b[0msteps_per_epoch\u001b[0m\u001b[1;33m=\u001b[0m\u001b[0msteps_per_epoch\u001b[0m\u001b[1;33m,\u001b[0m\u001b[1;33m\u001b[0m\u001b[1;33m\u001b[0m\u001b[0m\n",
      "\u001b[1;32m~\\AppData\\Roaming\\Python\\Python38\\site-packages\\tensorflow\\python\\keras\\engine\\training.py\u001b[0m in \u001b[0;36mfit\u001b[1;34m(self, x, y, batch_size, epochs, verbose, callbacks, validation_split, validation_data, shuffle, class_weight, sample_weight, initial_epoch, steps_per_epoch, validation_steps, validation_batch_size, validation_freq, max_queue_size, workers, use_multiprocessing)\u001b[0m\n\u001b[0;32m   1181\u001b[0m                 _r=1):\n\u001b[0;32m   1182\u001b[0m               \u001b[0mcallbacks\u001b[0m\u001b[1;33m.\u001b[0m\u001b[0mon_train_batch_begin\u001b[0m\u001b[1;33m(\u001b[0m\u001b[0mstep\u001b[0m\u001b[1;33m)\u001b[0m\u001b[1;33m\u001b[0m\u001b[1;33m\u001b[0m\u001b[0m\n\u001b[1;32m-> 1183\u001b[1;33m               \u001b[0mtmp_logs\u001b[0m \u001b[1;33m=\u001b[0m \u001b[0mself\u001b[0m\u001b[1;33m.\u001b[0m\u001b[0mtrain_function\u001b[0m\u001b[1;33m(\u001b[0m\u001b[0miterator\u001b[0m\u001b[1;33m)\u001b[0m\u001b[1;33m\u001b[0m\u001b[1;33m\u001b[0m\u001b[0m\n\u001b[0m\u001b[0;32m   1184\u001b[0m               \u001b[1;32mif\u001b[0m \u001b[0mdata_handler\u001b[0m\u001b[1;33m.\u001b[0m\u001b[0mshould_sync\u001b[0m\u001b[1;33m:\u001b[0m\u001b[1;33m\u001b[0m\u001b[1;33m\u001b[0m\u001b[0m\n\u001b[0;32m   1185\u001b[0m                 \u001b[0mcontext\u001b[0m\u001b[1;33m.\u001b[0m\u001b[0masync_wait\u001b[0m\u001b[1;33m(\u001b[0m\u001b[1;33m)\u001b[0m\u001b[1;33m\u001b[0m\u001b[1;33m\u001b[0m\u001b[0m\n",
      "\u001b[1;32m~\\AppData\\Roaming\\Python\\Python38\\site-packages\\tensorflow\\python\\eager\\def_function.py\u001b[0m in \u001b[0;36m__call__\u001b[1;34m(self, *args, **kwds)\u001b[0m\n\u001b[0;32m    887\u001b[0m \u001b[1;33m\u001b[0m\u001b[0m\n\u001b[0;32m    888\u001b[0m       \u001b[1;32mwith\u001b[0m \u001b[0mOptionalXlaContext\u001b[0m\u001b[1;33m(\u001b[0m\u001b[0mself\u001b[0m\u001b[1;33m.\u001b[0m\u001b[0m_jit_compile\u001b[0m\u001b[1;33m)\u001b[0m\u001b[1;33m:\u001b[0m\u001b[1;33m\u001b[0m\u001b[1;33m\u001b[0m\u001b[0m\n\u001b[1;32m--> 889\u001b[1;33m         \u001b[0mresult\u001b[0m \u001b[1;33m=\u001b[0m \u001b[0mself\u001b[0m\u001b[1;33m.\u001b[0m\u001b[0m_call\u001b[0m\u001b[1;33m(\u001b[0m\u001b[1;33m*\u001b[0m\u001b[0margs\u001b[0m\u001b[1;33m,\u001b[0m \u001b[1;33m**\u001b[0m\u001b[0mkwds\u001b[0m\u001b[1;33m)\u001b[0m\u001b[1;33m\u001b[0m\u001b[1;33m\u001b[0m\u001b[0m\n\u001b[0m\u001b[0;32m    890\u001b[0m \u001b[1;33m\u001b[0m\u001b[0m\n\u001b[0;32m    891\u001b[0m       \u001b[0mnew_tracing_count\u001b[0m \u001b[1;33m=\u001b[0m \u001b[0mself\u001b[0m\u001b[1;33m.\u001b[0m\u001b[0mexperimental_get_tracing_count\u001b[0m\u001b[1;33m(\u001b[0m\u001b[1;33m)\u001b[0m\u001b[1;33m\u001b[0m\u001b[1;33m\u001b[0m\u001b[0m\n",
      "\u001b[1;32m~\\AppData\\Roaming\\Python\\Python38\\site-packages\\tensorflow\\python\\eager\\def_function.py\u001b[0m in \u001b[0;36m_call\u001b[1;34m(self, *args, **kwds)\u001b[0m\n\u001b[0;32m    915\u001b[0m       \u001b[1;31m# In this case we have created variables on the first call, so we run the\u001b[0m\u001b[1;33m\u001b[0m\u001b[1;33m\u001b[0m\u001b[1;33m\u001b[0m\u001b[0m\n\u001b[0;32m    916\u001b[0m       \u001b[1;31m# defunned version which is guaranteed to never create variables.\u001b[0m\u001b[1;33m\u001b[0m\u001b[1;33m\u001b[0m\u001b[1;33m\u001b[0m\u001b[0m\n\u001b[1;32m--> 917\u001b[1;33m       \u001b[1;32mreturn\u001b[0m \u001b[0mself\u001b[0m\u001b[1;33m.\u001b[0m\u001b[0m_stateless_fn\u001b[0m\u001b[1;33m(\u001b[0m\u001b[1;33m*\u001b[0m\u001b[0margs\u001b[0m\u001b[1;33m,\u001b[0m \u001b[1;33m**\u001b[0m\u001b[0mkwds\u001b[0m\u001b[1;33m)\u001b[0m  \u001b[1;31m# pylint: disable=not-callable\u001b[0m\u001b[1;33m\u001b[0m\u001b[1;33m\u001b[0m\u001b[0m\n\u001b[0m\u001b[0;32m    918\u001b[0m     \u001b[1;32melif\u001b[0m \u001b[0mself\u001b[0m\u001b[1;33m.\u001b[0m\u001b[0m_stateful_fn\u001b[0m \u001b[1;32mis\u001b[0m \u001b[1;32mnot\u001b[0m \u001b[1;32mNone\u001b[0m\u001b[1;33m:\u001b[0m\u001b[1;33m\u001b[0m\u001b[1;33m\u001b[0m\u001b[0m\n\u001b[0;32m    919\u001b[0m       \u001b[1;31m# Release the lock early so that multiple threads can perform the call\u001b[0m\u001b[1;33m\u001b[0m\u001b[1;33m\u001b[0m\u001b[1;33m\u001b[0m\u001b[0m\n",
      "\u001b[1;32m~\\AppData\\Roaming\\Python\\Python38\\site-packages\\tensorflow\\python\\eager\\function.py\u001b[0m in \u001b[0;36m__call__\u001b[1;34m(self, *args, **kwargs)\u001b[0m\n\u001b[0;32m   3021\u001b[0m       (graph_function,\n\u001b[0;32m   3022\u001b[0m        filtered_flat_args) = self._maybe_define_function(args, kwargs)\n\u001b[1;32m-> 3023\u001b[1;33m     return graph_function._call_flat(\n\u001b[0m\u001b[0;32m   3024\u001b[0m         filtered_flat_args, captured_inputs=graph_function.captured_inputs)  # pylint: disable=protected-access\n\u001b[0;32m   3025\u001b[0m \u001b[1;33m\u001b[0m\u001b[0m\n",
      "\u001b[1;32m~\\AppData\\Roaming\\Python\\Python38\\site-packages\\tensorflow\\python\\eager\\function.py\u001b[0m in \u001b[0;36m_call_flat\u001b[1;34m(self, args, captured_inputs, cancellation_manager)\u001b[0m\n\u001b[0;32m   1958\u001b[0m         and executing_eagerly):\n\u001b[0;32m   1959\u001b[0m       \u001b[1;31m# No tape is watching; skip to running the function.\u001b[0m\u001b[1;33m\u001b[0m\u001b[1;33m\u001b[0m\u001b[1;33m\u001b[0m\u001b[0m\n\u001b[1;32m-> 1960\u001b[1;33m       return self._build_call_outputs(self._inference_function.call(\n\u001b[0m\u001b[0;32m   1961\u001b[0m           ctx, args, cancellation_manager=cancellation_manager))\n\u001b[0;32m   1962\u001b[0m     forward_backward = self._select_forward_and_backward_functions(\n",
      "\u001b[1;32m~\\AppData\\Roaming\\Python\\Python38\\site-packages\\tensorflow\\python\\eager\\function.py\u001b[0m in \u001b[0;36mcall\u001b[1;34m(self, ctx, args, cancellation_manager)\u001b[0m\n\u001b[0;32m    589\u001b[0m       \u001b[1;32mwith\u001b[0m \u001b[0m_InterpolateFunctionError\u001b[0m\u001b[1;33m(\u001b[0m\u001b[0mself\u001b[0m\u001b[1;33m)\u001b[0m\u001b[1;33m:\u001b[0m\u001b[1;33m\u001b[0m\u001b[1;33m\u001b[0m\u001b[0m\n\u001b[0;32m    590\u001b[0m         \u001b[1;32mif\u001b[0m \u001b[0mcancellation_manager\u001b[0m \u001b[1;32mis\u001b[0m \u001b[1;32mNone\u001b[0m\u001b[1;33m:\u001b[0m\u001b[1;33m\u001b[0m\u001b[1;33m\u001b[0m\u001b[0m\n\u001b[1;32m--> 591\u001b[1;33m           outputs = execute.execute(\n\u001b[0m\u001b[0;32m    592\u001b[0m               \u001b[0mstr\u001b[0m\u001b[1;33m(\u001b[0m\u001b[0mself\u001b[0m\u001b[1;33m.\u001b[0m\u001b[0msignature\u001b[0m\u001b[1;33m.\u001b[0m\u001b[0mname\u001b[0m\u001b[1;33m)\u001b[0m\u001b[1;33m,\u001b[0m\u001b[1;33m\u001b[0m\u001b[1;33m\u001b[0m\u001b[0m\n\u001b[0;32m    593\u001b[0m               \u001b[0mnum_outputs\u001b[0m\u001b[1;33m=\u001b[0m\u001b[0mself\u001b[0m\u001b[1;33m.\u001b[0m\u001b[0m_num_outputs\u001b[0m\u001b[1;33m,\u001b[0m\u001b[1;33m\u001b[0m\u001b[1;33m\u001b[0m\u001b[0m\n",
      "\u001b[1;32m~\\AppData\\Roaming\\Python\\Python38\\site-packages\\tensorflow\\python\\eager\\execute.py\u001b[0m in \u001b[0;36mquick_execute\u001b[1;34m(op_name, num_outputs, inputs, attrs, ctx, name)\u001b[0m\n\u001b[0;32m     57\u001b[0m   \u001b[1;32mtry\u001b[0m\u001b[1;33m:\u001b[0m\u001b[1;33m\u001b[0m\u001b[1;33m\u001b[0m\u001b[0m\n\u001b[0;32m     58\u001b[0m     \u001b[0mctx\u001b[0m\u001b[1;33m.\u001b[0m\u001b[0mensure_initialized\u001b[0m\u001b[1;33m(\u001b[0m\u001b[1;33m)\u001b[0m\u001b[1;33m\u001b[0m\u001b[1;33m\u001b[0m\u001b[0m\n\u001b[1;32m---> 59\u001b[1;33m     tensors = pywrap_tfe.TFE_Py_Execute(ctx._handle, device_name, op_name,\n\u001b[0m\u001b[0;32m     60\u001b[0m                                         inputs, attrs, num_outputs)\n\u001b[0;32m     61\u001b[0m   \u001b[1;32mexcept\u001b[0m \u001b[0mcore\u001b[0m\u001b[1;33m.\u001b[0m\u001b[0m_NotOkStatusException\u001b[0m \u001b[1;32mas\u001b[0m \u001b[0me\u001b[0m\u001b[1;33m:\u001b[0m\u001b[1;33m\u001b[0m\u001b[1;33m\u001b[0m\u001b[0m\n",
      "\u001b[1;31mKeyboardInterrupt\u001b[0m: "
     ]
    }
   ],
   "source": [
    "history = model.fit_generator(\n",
    " train_generator,\n",
    " steps_per_epoch=100,\n",
    " epochs=30,\n",
    " validation_data=validation_generator,\n",
    " validation_steps=50)"
   ]
  },
  {
   "cell_type": "code",
   "execution_count": 14,
   "id": "3ed2f9a6",
   "metadata": {},
   "outputs": [],
   "source": [
    "# 微调模型\n",
    "# (1) 在已经训练好的基网络（base network）上添加自定义网络。\n",
    "# (2) 冻结基网络。\n",
    "# (3) 训练所添加的部分。\n",
    "# (4) 解冻基网络的一些层。\n",
    "# (5) 联合训练解冻的这些层和添加的部分。\n",
    "conv_base.trainable = True\n",
    "set_trainable = False\n",
    "for layer in conv_base.layers:\n",
    "    if layer.name == 'block5_conv1':\n",
    "        set_trainable = True\n",
    "    if set_trainable:\n",
    "        layer.trainable = True\n",
    "    else:\n",
    "        layer.trainable = False"
   ]
  },
  {
   "cell_type": "code",
   "execution_count": 15,
   "id": "88ec5ec5",
   "metadata": {},
   "outputs": [
    {
     "name": "stdout",
     "output_type": "stream",
     "text": [
      "Model: \"sequential_2\"\n",
      "_________________________________________________________________\n",
      "Layer (type)                 Output Shape              Param #   \n",
      "=================================================================\n",
      "vgg16 (Functional)           (None, 4, 4, 512)         14714688  \n",
      "_________________________________________________________________\n",
      "flatten_2 (Flatten)          (None, 8192)              0         \n",
      "_________________________________________________________________\n",
      "dense_3 (Dense)              (None, 256)               2097408   \n",
      "_________________________________________________________________\n",
      "dense_4 (Dense)              (None, 1)                 257       \n",
      "=================================================================\n",
      "Total params: 16,812,353\n",
      "Trainable params: 9,177,089\n",
      "Non-trainable params: 7,635,264\n",
      "_________________________________________________________________\n"
     ]
    }
   ],
   "source": [
    "model.summary()"
   ]
  },
  {
   "cell_type": "code",
   "execution_count": null,
   "id": "7d3de35b",
   "metadata": {},
   "outputs": [],
   "source": [
    "history = model.fit_generator(\n",
    " train_generator,\n",
    " steps_per_epoch=100,\n",
    " epochs=100,\n",
    " validation_data=validation_generator,\n",
    " validation_steps=50)"
   ]
  }
 ],
 "metadata": {
  "kernelspec": {
   "display_name": "Python 3",
   "language": "python",
   "name": "python3"
  },
  "language_info": {
   "codemirror_mode": {
    "name": "ipython",
    "version": 3
   },
   "file_extension": ".py",
   "mimetype": "text/x-python",
   "name": "python",
   "nbconvert_exporter": "python",
   "pygments_lexer": "ipython3",
   "version": "3.8.8"
  }
 },
 "nbformat": 4,
 "nbformat_minor": 5
}
