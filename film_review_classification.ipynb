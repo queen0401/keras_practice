{
 "cells": [
  {
   "cell_type": "code",
   "execution_count": 26,
   "id": "9d592f00",
   "metadata": {},
   "outputs": [],
   "source": [
    "from keras.datasets import imdb\n",
    "from keras import models\n",
    "from keras import layers\n",
    "import numpy as np\n",
    "import matplotlib.pyplot as plt\n",
    "%matplotlib inline"
   ]
  },
  {
   "cell_type": "code",
   "execution_count": 6,
   "id": "15892ce4",
   "metadata": {},
   "outputs": [
    {
     "name": "stderr",
     "output_type": "stream",
     "text": [
      "<__array_function__ internals>:5: VisibleDeprecationWarning: Creating an ndarray from ragged nested sequences (which is a list-or-tuple of lists-or-tuples-or ndarrays with different lengths or shapes) is deprecated. If you meant to do this, you must specify 'dtype=object' when creating the ndarray\n",
      "C:\\Users\\李伟豪\\AppData\\Roaming\\Python\\Python38\\site-packages\\keras\\datasets\\imdb.py:155: VisibleDeprecationWarning: Creating an ndarray from ragged nested sequences (which is a list-or-tuple of lists-or-tuples-or ndarrays with different lengths or shapes) is deprecated. If you meant to do this, you must specify 'dtype=object' when creating the ndarray\n",
      "  x_train, y_train = np.array(xs[:idx]), np.array(labels[:idx])\n",
      "C:\\Users\\李伟豪\\AppData\\Roaming\\Python\\Python38\\site-packages\\keras\\datasets\\imdb.py:156: VisibleDeprecationWarning: Creating an ndarray from ragged nested sequences (which is a list-or-tuple of lists-or-tuples-or ndarrays with different lengths or shapes) is deprecated. If you meant to do this, you must specify 'dtype=object' when creating the ndarray\n",
      "  x_test, y_test = np.array(xs[idx:]), np.array(labels[idx:])\n"
     ]
    }
   ],
   "source": [
    "#加载数据集\n",
    "(train_data, train_labels), (test_data, test_labels) = imdb.load_data(num_words=10000)"
   ]
  },
  {
   "cell_type": "code",
   "execution_count": 3,
   "id": "7df67126",
   "metadata": {},
   "outputs": [
    {
     "data": {
      "text/plain": [
       "\"? this film was just brilliant casting location scenery story direction everyone's really suited the part they played and you could just imagine being there robert ? is an amazing actor and now the same being director ? father came from the same scottish island as myself so i loved the fact there was a real connection with this film the witty remarks throughout the film were great it was just brilliant so much that i bought the film as soon as it was released for ? and would recommend it to everyone to watch and the fly fishing was amazing really cried at the end it was so sad and you know what they say if you cry at a film it must have been good and this definitely was also ? to the two little boy's that played the ? of norman and paul they were just brilliant children are often left out of the ? list i think because the stars that play them all grown up are such a big profile for the whole film but these children are amazing and should be praised for what they have done don't you think the whole story was so lovely because it was true and was someone's life after all that was shared with us all\""
      ]
     },
     "execution_count": 3,
     "metadata": {},
     "output_type": "execute_result"
    }
   ],
   "source": [
    "word_index = imdb.get_word_index()    #将单词映射为整数\n",
    "reverse_word_index = dict([(value, key) for(key, value) in word_index.items()])  #将整数索引映射为单词\n",
    "decoded_reveiw = ' '.join([reverse_word_index.get(i - 3, '?') for i in train_data[0]]) #解码\n",
    "decoded_reveiw"
   ]
  },
  {
   "cell_type": "code",
   "execution_count": 4,
   "id": "cbc2197d",
   "metadata": {},
   "outputs": [],
   "source": [
    "#将整数序列编码为二进制矩阵(train_data里是许多整数序列, x_train为二进制矩阵)\n",
    "def vectorize_sequences(sequences, dimension = 10000):\n",
    "    results = np.zeros((len(sequences), dimension))\n",
    "    for i, sequence in enumerate(sequences):\n",
    "        results[i, sequence] = 1\n",
    "    return results\n",
    "\n",
    "x_train = vectorize_sequences(train_data)\n",
    "x_test = vectorize_sequences(test_data)\n",
    "\n",
    "y_train = np.asarray(train_labels).astype('float32')\n",
    "y_test = np.asarray(test_labels).astype('float32')"
   ]
  },
  {
   "cell_type": "code",
   "execution_count": 8,
   "id": "ed8b9407",
   "metadata": {},
   "outputs": [],
   "source": [
    "#模型定义\n",
    "model = models.Sequential()\n",
    "model.add(layers.Dense(16, activation = 'relu', input_shape = (10000, )))   #rectified linear unit 将所有负数归零\n",
    "model.add(layers.Dense(16, activation = 'relu'))\n",
    "model.add(layers.Dense(1, activation = 'sigmoid'))     #sigmoid 将值压缩到【0,1】区间"
   ]
  },
  {
   "cell_type": "code",
   "execution_count": 9,
   "id": "0f4b88c4",
   "metadata": {},
   "outputs": [],
   "source": [
    "#编译模型\n",
    "model.compile(optimizer= 'rmsprop',\n",
    "             loss = 'binary_crossentropy',\n",
    "             metrics=['accuracy'])"
   ]
  },
  {
   "cell_type": "code",
   "execution_count": 16,
   "id": "48fa468f",
   "metadata": {},
   "outputs": [],
   "source": [
    "#留出10000个作为验证集，15000作为训练集\n",
    "x_val = x_train[:10000]\n",
    "x_train_part = x_train[10000: ]\n",
    "y_val = y_train[:10000]\n",
    "y_train_part = y_train[10000: ]"
   ]
  },
  {
   "cell_type": "code",
   "execution_count": 23,
   "id": "6254963b",
   "metadata": {},
   "outputs": [
    {
     "name": "stdout",
     "output_type": "stream",
     "text": [
      "Epoch 1/20\n",
      "30/30 [==============================] - 16s 48ms/step - loss: 0.5966 - accuracy: 0.6956 - val_loss: 0.4129 - val_accuracy: 0.8372\n",
      "Epoch 2/20\n",
      "30/30 [==============================] - 0s 15ms/step - loss: 0.3334 - accuracy: 0.8990 - val_loss: 0.3090 - val_accuracy: 0.8866\n",
      "Epoch 3/20\n",
      "30/30 [==============================] - 0s 16ms/step - loss: 0.2295 - accuracy: 0.9350 - val_loss: 0.2841 - val_accuracy: 0.8888\n",
      "Epoch 4/20\n",
      "30/30 [==============================] - 0s 15ms/step - loss: 0.1847 - accuracy: 0.9417 - val_loss: 0.2751 - val_accuracy: 0.8901\n",
      "Epoch 5/20\n",
      "30/30 [==============================] - 0s 15ms/step - loss: 0.1478 - accuracy: 0.9534 - val_loss: 0.2852 - val_accuracy: 0.8851\n",
      "Epoch 6/20\n",
      "30/30 [==============================] - 0s 15ms/step - loss: 0.1163 - accuracy: 0.9666 - val_loss: 0.3023 - val_accuracy: 0.8805\n",
      "Epoch 7/20\n",
      "30/30 [==============================] - 0s 15ms/step - loss: 0.0964 - accuracy: 0.9730 - val_loss: 0.3140 - val_accuracy: 0.8798\n",
      "Epoch 8/20\n",
      "30/30 [==============================] - 0s 14ms/step - loss: 0.0844 - accuracy: 0.9760 - val_loss: 0.3245 - val_accuracy: 0.8800\n",
      "Epoch 9/20\n",
      "30/30 [==============================] - 0s 15ms/step - loss: 0.0654 - accuracy: 0.9848 - val_loss: 0.3552 - val_accuracy: 0.8808\n",
      "Epoch 10/20\n",
      "30/30 [==============================] - 0s 14ms/step - loss: 0.0549 - accuracy: 0.9860 - val_loss: 0.3721 - val_accuracy: 0.8772\n",
      "Epoch 11/20\n",
      "30/30 [==============================] - 0s 15ms/step - loss: 0.0408 - accuracy: 0.9919 - val_loss: 0.4003 - val_accuracy: 0.8761\n",
      "Epoch 12/20\n",
      "30/30 [==============================] - 0s 16ms/step - loss: 0.0340 - accuracy: 0.9933 - val_loss: 0.4403 - val_accuracy: 0.8766\n",
      "Epoch 13/20\n",
      "30/30 [==============================] - 1s 17ms/step - loss: 0.0255 - accuracy: 0.9958 - val_loss: 0.4584 - val_accuracy: 0.8729\n",
      "Epoch 14/20\n",
      "30/30 [==============================] - 0s 16ms/step - loss: 0.0199 - accuracy: 0.9976 - val_loss: 0.4901 - val_accuracy: 0.8723\n",
      "Epoch 15/20\n",
      "30/30 [==============================] - 0s 15ms/step - loss: 0.0163 - accuracy: 0.9983 - val_loss: 0.5334 - val_accuracy: 0.8672\n",
      "Epoch 16/20\n",
      "30/30 [==============================] - 1s 17ms/step - loss: 0.0138 - accuracy: 0.9982 - val_loss: 0.5598 - val_accuracy: 0.8685\n",
      "Epoch 17/20\n",
      "30/30 [==============================] - 1s 17ms/step - loss: 0.0094 - accuracy: 0.9992 - val_loss: 0.5884 - val_accuracy: 0.8689\n",
      "Epoch 18/20\n",
      "30/30 [==============================] - 0s 15ms/step - loss: 0.0061 - accuracy: 1.0000 - val_loss: 0.7122 - val_accuracy: 0.8612\n",
      "Epoch 19/20\n",
      "30/30 [==============================] - 1s 17ms/step - loss: 0.0081 - accuracy: 0.9993 - val_loss: 0.6573 - val_accuracy: 0.8671\n",
      "Epoch 20/20\n",
      "30/30 [==============================] - 1s 18ms/step - loss: 0.0037 - accuracy: 0.9999 - val_loss: 0.6998 - val_accuracy: 0.8665\n"
     ]
    }
   ],
   "source": [
    "#训练模型\n",
    "history = model.fit(x_train_part,\n",
    "                  y_train_part,\n",
    "                  epochs = 20,     #训练20个轮次，即对x_train_part和y_train_part两个张量中的所有样本进行20次迭代\n",
    "                  batch_size = 512,\n",
    "                  validation_data= (x_val, y_val))"
   ]
  },
  {
   "cell_type": "code",
   "execution_count": 46,
   "id": "caadee1d",
   "metadata": {},
   "outputs": [
    {
     "data": {
      "text/plain": [
       "<matplotlib.legend.Legend at 0x19aad6236d0>"
      ]
     },
     "execution_count": 46,
     "metadata": {},
     "output_type": "execute_result"
    },
    {
     "data": {
      "image/png": "[encoded data removed]",
      "text/plain": [
       "<Figure size 432x288 with 1 Axes>"
      ]
     },
     "metadata": {
      "needs_background": "light"
     },
     "output_type": "display_data"
    }
   ],
   "source": [
    "#观察训练过程\n",
    "history_dict = history.history\n",
    "epochs = range(1, len(history_dict['loss'])+1)\n",
    "plt.plot(epochs, history_dict['loss'], label = 'loss')\n",
    "plt.xlabel('epochs')\n",
    "plt.ylabel('loss')\n",
    "plt.plot(epochs, history_dict['val_loss'], label = 'val_loss')\n",
    "plt.legend()"
   ]
  },
  {
   "cell_type": "code",
   "execution_count": 47,
   "id": "9d94a1df",
   "metadata": {},
   "outputs": [
    {
     "data": {
      "text/plain": [
       "<matplotlib.legend.Legend at 0x19aad6990d0>"
      ]
     },
     "execution_count": 47,
     "metadata": {},
     "output_type": "execute_result"
    },
    {
     "data": {
      "image/png": "[encoded data removed]",
      "text/plain": [
       "<Figure size 432x288 with 1 Axes>"
      ]
     },
     "metadata": {
      "needs_background": "light"
     },
     "output_type": "display_data"
    }
   ],
   "source": [
    "plt.plot(epochs, history_dict['accuracy'], label = 'acc')\n",
    "plt.plot(epochs, history_dict['val_accuracy'], label = 'val_acc')\n",
    "plt.xlabel('epochs')\n",
    "plt.ylabel('accuracy')\n",
    "plt.legend()"
   ]
  },
  {
   "cell_type": "code",
   "execution_count": 54,
   "id": "1d9d4be3",
   "metadata": {},
   "outputs": [
    {
     "name": "stdout",
     "output_type": "stream",
     "text": [
      "Epoch 1/4\n",
      "49/49 [==============================] - 1s 8ms/step - loss: 0.5520 - accuracy: 0.7429\n",
      "Epoch 2/4\n",
      "49/49 [==============================] - 0s 8ms/step - loss: 0.2690 - accuracy: 0.9118\n",
      "Epoch 3/4\n",
      "49/49 [==============================] - 0s 7ms/step - loss: 0.2045 - accuracy: 0.9294\n",
      "Epoch 4/4\n",
      "49/49 [==============================] - 0s 7ms/step - loss: 0.1617 - accuracy: 0.9457\n",
      "782/782 [==============================] - 1s 967us/step - loss: 0.3093 - accuracy: 0.8768\n"
     ]
    },
    {
     "data": {
      "text/plain": [
       "array([[0.174382  ],\n",
       "       [0.99983966],\n",
       "       [0.75519526],\n",
       "       ...,\n",
       "       [0.0981167 ],\n",
       "       [0.05875951],\n",
       "       [0.59497404]], dtype=float32)"
      ]
     },
     "execution_count": 54,
     "metadata": {},
     "output_type": "execute_result"
    }
   ],
   "source": [
    "#观察发现在第四轮达到了最大精度，故重新训练一个模型，只训练四轮\n",
    "model = models.Sequential()\n",
    "model.add(layers.Dense(16, activation = 'relu', input_shape = (10000,)))\n",
    "model.add(layers.Dense(16, activation = 'relu'))\n",
    "model.add(layers.Dense(1, activation = 'sigmoid'))\n",
    "\n",
    "model.compile(optimizer='rmsprop',\n",
    "              loss = 'binary_crossentropy',\n",
    "              metrics = ['accuracy'])\n",
    "\n",
    "history = model.fit(x_train, y_train, epochs=4, batch_size = 512)\n",
    "results = model.evaluate(x_test, y_test)\n",
    "model.predict(x_test)"
   ]
  },
  {
   "cell_type": "code",
   "execution_count": null,
   "id": "0de2f03f",
   "metadata": {},
   "outputs": [],
   "source": []
  }
 ],
 "metadata": {
  "kernelspec": {
   "display_name": "Python 3",
   "language": "python",
   "name": "python3"
  },
  "language_info": {
   "codemirror_mode": {
    "name": "ipython",
    "version": 3
   },
   "file_extension": ".py",
   "mimetype": "text/x-python",
   "name": "python",
   "nbconvert_exporter": "python",
   "pygments_lexer": "ipython3",
   "version": "3.8.8"
  }
 },
 "nbformat": 4,
 "nbformat_minor": 5
}
