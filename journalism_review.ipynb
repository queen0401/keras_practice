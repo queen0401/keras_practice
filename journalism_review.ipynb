{
 "cells": [
  {
   "cell_type": "code",
   "execution_count": 3,
   "id": "48d2f45d",
   "metadata": {},
   "outputs": [],
   "source": [
    "import numpy as np\n",
    "import matplotlib.pyplot as plt\n",
    "from keras import models\n",
    "from keras import layers\n",
    "from keras.datasets import reuters\n",
    "%matplotlib inline"
   ]
  },
  {
   "cell_type": "code",
   "execution_count": 4,
   "id": "30d79d9e",
   "metadata": {},
   "outputs": [
    {
     "name": "stdout",
     "output_type": "stream",
     "text": [
      "Downloading data from https://storage.googleapis.com/tensorflow/tf-keras-datasets/reuters.npz\n",
      "2113536/2110848 [==============================] - 1s 0us/step\n",
      "2121728/2110848 [==============================] - 1s 0us/step\n"
     ]
    },
    {
     "name": "stderr",
     "output_type": "stream",
     "text": [
      "C:\\Users\\李伟豪\\AppData\\Roaming\\Python\\Python38\\site-packages\\keras\\datasets\\reuters.py:143: VisibleDeprecationWarning: Creating an ndarray from ragged nested sequences (which is a list-or-tuple of lists-or-tuples-or ndarrays with different lengths or shapes) is deprecated. If you meant to do this, you must specify 'dtype=object' when creating the ndarray\n",
      "  x_train, y_train = np.array(xs[:idx]), np.array(labels[:idx])\n",
      "C:\\Users\\李伟豪\\AppData\\Roaming\\Python\\Python38\\site-packages\\keras\\datasets\\reuters.py:144: VisibleDeprecationWarning: Creating an ndarray from ragged nested sequences (which is a list-or-tuple of lists-or-tuples-or ndarrays with different lengths or shapes) is deprecated. If you meant to do this, you must specify 'dtype=object' when creating the ndarray\n",
      "  x_test, y_test = np.array(xs[idx:]), np.array(labels[idx:])\n"
     ]
    }
   ],
   "source": [
    "#加载路透社新闻数据集\n",
    "(train_data, train_labels), (test_data, test_labels) = reuters.load_data(num_words=10000)\n",
    "#每个样本都是一个整数列表，代表单词索引\n",
    "#每个标签是一个整数，代表类别, 共64种"
   ]
  },
  {
   "cell_type": "code",
   "execution_count": 7,
   "id": "d6a3a42e",
   "metadata": {},
   "outputs": [],
   "source": [
    "#将数据向量化\n",
    "def vectorize_sequences(sequences, dimension = 10000):\n",
    "    result = np.zeros((len(sequences), dimension))\n",
    "    for i, sequence in enumerate(sequences):\n",
    "        result[i, sequence] = 1\n",
    "    return result\n",
    "\n",
    "x_train = vectorize_sequences(train_data)\n",
    "x_test = vectorize_sequences(test_data)"
   ]
  },
  {
   "cell_type": "code",
   "execution_count": 8,
   "id": "7f4564c1",
   "metadata": {},
   "outputs": [],
   "source": [
    "#将标签向量化\n",
    "def to_one_hot(labels, dimension = 46):\n",
    "    result = np.zeros((len(labels), dimension))\n",
    "    for i, label in enumerate(labels):\n",
    "        result[i, label] = 1\n",
    "    return result\n",
    "\n",
    "one_hot_train_labels = to_one_hot(train_labels) \n",
    "one_hot_test_labels = to_one_hot(test_labels)"
   ]
  },
  {
   "cell_type": "code",
   "execution_count": 9,
   "id": "0396618e",
   "metadata": {},
   "outputs": [],
   "source": [
    "#建立模型\n",
    "model = models.Sequential()\n",
    "model.add(layers.Dense(64, activation = 'relu', input_shape = (10000,)))\n",
    "model.add(layers.Dense(64, activation = 'relu', ))\n",
    "model.add(layers.Dense(46, activation = 'softmax'))   #这一层使用了softmax激活，网络将输出在每个类别上的概率分布"
   ]
  },
  {
   "cell_type": "code",
   "execution_count": 10,
   "id": "eb2453e7",
   "metadata": {},
   "outputs": [],
   "source": [
    "#编译模型\n",
    "model.compile(optimizer= 'rmsprop',\n",
    "             loss = 'categorical_crossentropy',     #对于多分类问题使用分类交叉熵作为损失函数\n",
    "             metrics= ['accuracy'])"
   ]
  },
  {
   "cell_type": "code",
   "execution_count": 14,
   "id": "301402cd",
   "metadata": {},
   "outputs": [],
   "source": [
    "#取1000个作为验证集\n",
    "x_train_part = x_train[1000: ]\n",
    "x_val = x_train[:1000]\n",
    "y_train_part = one_hot_train_labels[1000:]\n",
    "y_val = one_hot_train_labels[:1000]"
   ]
  },
  {
   "cell_type": "code",
   "execution_count": 15,
   "id": "f4c13025",
   "metadata": {},
   "outputs": [
    {
     "name": "stdout",
     "output_type": "stream",
     "text": [
      "Epoch 1/20\n",
      "16/16 [==============================] - 13s 40ms/step - loss: 3.1672 - accuracy: 0.3911 - val_loss: 1.7815 - val_accuracy: 0.6590\n",
      "Epoch 2/20\n",
      "16/16 [==============================] - 0s 15ms/step - loss: 1.5210 - accuracy: 0.7069 - val_loss: 1.3236 - val_accuracy: 0.7180\n",
      "Epoch 3/20\n",
      "16/16 [==============================] - 0s 15ms/step - loss: 1.0771 - accuracy: 0.7819 - val_loss: 1.1310 - val_accuracy: 0.7640\n",
      "Epoch 4/20\n",
      "16/16 [==============================] - 0s 15ms/step - loss: 0.8296 - accuracy: 0.8303 - val_loss: 1.0323 - val_accuracy: 0.7870\n",
      "Epoch 5/20\n",
      "16/16 [==============================] - 0s 15ms/step - loss: 0.6596 - accuracy: 0.8676 - val_loss: 0.9540 - val_accuracy: 0.8020\n",
      "Epoch 6/20\n",
      "16/16 [==============================] - 0s 15ms/step - loss: 0.5299 - accuracy: 0.8944 - val_loss: 0.9325 - val_accuracy: 0.8030\n",
      "Epoch 7/20\n",
      "16/16 [==============================] - 0s 15ms/step - loss: 0.3994 - accuracy: 0.9198 - val_loss: 0.8924 - val_accuracy: 0.8140\n",
      "Epoch 8/20\n",
      "16/16 [==============================] - 0s 15ms/step - loss: 0.3293 - accuracy: 0.9363 - val_loss: 0.9060 - val_accuracy: 0.8090\n",
      "Epoch 9/20\n",
      "16/16 [==============================] - 0s 15ms/step - loss: 0.2629 - accuracy: 0.9444 - val_loss: 0.8962 - val_accuracy: 0.8150\n",
      "Epoch 10/20\n",
      "16/16 [==============================] - 0s 15ms/step - loss: 0.2258 - accuracy: 0.9468 - val_loss: 0.8947 - val_accuracy: 0.8150\n",
      "Epoch 11/20\n",
      "16/16 [==============================] - 0s 15ms/step - loss: 0.2011 - accuracy: 0.9525 - val_loss: 0.8971 - val_accuracy: 0.8090\n",
      "Epoch 12/20\n",
      "16/16 [==============================] - 0s 15ms/step - loss: 0.1753 - accuracy: 0.9554 - val_loss: 0.9374 - val_accuracy: 0.8100\n",
      "Epoch 13/20\n",
      "16/16 [==============================] - 0s 15ms/step - loss: 0.1574 - accuracy: 0.9589 - val_loss: 1.0273 - val_accuracy: 0.7970\n",
      "Epoch 14/20\n",
      "16/16 [==============================] - 0s 15ms/step - loss: 0.1439 - accuracy: 0.9588 - val_loss: 1.0431 - val_accuracy: 0.7960\n",
      "Epoch 15/20\n",
      "16/16 [==============================] - 0s 15ms/step - loss: 0.1290 - accuracy: 0.9617 - val_loss: 1.0263 - val_accuracy: 0.8120\n",
      "Epoch 16/20\n",
      "16/16 [==============================] - 0s 16ms/step - loss: 0.1253 - accuracy: 0.9601 - val_loss: 0.9966 - val_accuracy: 0.8070\n",
      "Epoch 17/20\n",
      "16/16 [==============================] - 0s 16ms/step - loss: 0.1072 - accuracy: 0.9625 - val_loss: 1.0099 - val_accuracy: 0.8070\n",
      "Epoch 18/20\n",
      "16/16 [==============================] - 0s 16ms/step - loss: 0.1030 - accuracy: 0.9617 - val_loss: 1.1131 - val_accuracy: 0.7990\n",
      "Epoch 19/20\n",
      "16/16 [==============================] - 0s 15ms/step - loss: 0.1064 - accuracy: 0.9623 - val_loss: 1.0595 - val_accuracy: 0.8070\n",
      "Epoch 20/20\n",
      "16/16 [==============================] - 0s 14ms/step - loss: 0.0959 - accuracy: 0.9639 - val_loss: 1.0576 - val_accuracy: 0.8080\n"
     ]
    }
   ],
   "source": [
    "#训练模型\n",
    "history = model.fit(x_train_part, y_train_part, epochs=20, batch_size = 512, validation_data=(x_val, y_val))"
   ]
  },
  {
   "cell_type": "code",
   "execution_count": 21,
   "id": "e6ccfc49",
   "metadata": {},
   "outputs": [
    {
     "data": {
      "text/plain": [
       "<matplotlib.legend.Legend at 0x2639f439fa0>"
      ]
     },
     "execution_count": 21,
     "metadata": {},
     "output_type": "execute_result"
    },
    {
     "data": {
      "image/png": "[encoded data removed]",
      "text/plain": [
       "<Figure size 432x288 with 1 Axes>"
      ]
     },
     "metadata": {
      "needs_background": "light"
     },
     "output_type": "display_data"
    }
   ],
   "source": [
    "#绘制图像\n",
    "epochs = range(1, len(history.history['loss'])+1)\n",
    "plt.scatter(epochs, history.history['loss'], label = 'loss')\n",
    "plt.scatter(epochs, history.history['val_loss'], label = 'val_loss')\n",
    "plt.xlabel('epochs')\n",
    "plt.ylabel('loss')\n",
    "plt.legend()"
   ]
  },
  {
   "cell_type": "code",
   "execution_count": 24,
   "id": "0ea7bd54",
   "metadata": {},
   "outputs": [
    {
     "data": {
      "text/plain": [
       "<matplotlib.legend.Legend at 0x2639f4a1940>"
      ]
     },
     "execution_count": 24,
     "metadata": {},
     "output_type": "execute_result"
    },
    {
     "data": {
      "image/png": "[encoded data removed]",
      "text/plain": [
       "<Figure size 432x288 with 1 Axes>"
      ]
     },
     "metadata": {
      "needs_background": "light"
     },
     "output_type": "display_data"
    }
   ],
   "source": [
    "plt.scatter(epochs, history.history['accuracy'], label = 'accuracy')\n",
    "plt.scatter(epochs, history.history['val_accuracy'], label = 'val_accuracy')\n",
    "plt.xlabel('epochs')\n",
    "plt.ylabel('accuracy')\n",
    "plt.legend()"
   ]
  },
  {
   "cell_type": "code",
   "execution_count": 31,
   "id": "ea665dc5",
   "metadata": {},
   "outputs": [
    {
     "name": "stdout",
     "output_type": "stream",
     "text": [
      "Epoch 1/9\n",
      "16/16 [==============================] - 1s 30ms/step - loss: 3.0526 - accuracy: 0.4054 - val_loss: 1.6830 - val_accuracy: 0.6600\n",
      "Epoch 2/9\n",
      "16/16 [==============================] - 0s 16ms/step - loss: 1.4647 - accuracy: 0.7091 - val_loss: 1.2678 - val_accuracy: 0.7230\n",
      "Epoch 3/9\n",
      "16/16 [==============================] - 0s 15ms/step - loss: 1.0415 - accuracy: 0.7776 - val_loss: 1.0973 - val_accuracy: 0.7600\n",
      "Epoch 4/9\n",
      "16/16 [==============================] - 0s 16ms/step - loss: 0.7921 - accuracy: 0.8307 - val_loss: 1.0505 - val_accuracy: 0.7620\n",
      "Epoch 5/9\n",
      "16/16 [==============================] - 0s 16ms/step - loss: 0.6399 - accuracy: 0.8648 - val_loss: 0.9323 - val_accuracy: 0.8060\n",
      "Epoch 6/9\n",
      "16/16 [==============================] - 0s 18ms/step - loss: 0.4982 - accuracy: 0.8981 - val_loss: 0.8887 - val_accuracy: 0.8190\n",
      "Epoch 7/9\n",
      "16/16 [==============================] - 0s 15ms/step - loss: 0.4039 - accuracy: 0.9172 - val_loss: 0.8923 - val_accuracy: 0.8120\n",
      "Epoch 8/9\n",
      "16/16 [==============================] - 0s 16ms/step - loss: 0.3273 - accuracy: 0.9310 - val_loss: 0.8709 - val_accuracy: 0.8160\n",
      "Epoch 9/9\n",
      "16/16 [==============================] - 0s 14ms/step - loss: 0.2606 - accuracy: 0.9466 - val_loss: 0.8746 - val_accuracy: 0.8160\n",
      "71/71 [==============================] - 0s 1ms/step - loss: 0.9925 - accuracy: 0.7863\n"
     ]
    }
   ],
   "source": [
    "#在第九轮之后出现了过拟合，重新训练一个九轮的模型\n",
    "#建立模型\n",
    "model = models.Sequential()\n",
    "model.add(layers.Dense(64, activation = 'relu', input_shape = (10000,)))\n",
    "model.add(layers.Dense(64, activation = 'relu', ))\n",
    "model.add(layers.Dense(46, activation = 'softmax'))   #这一层使用了softmax激活，网络将输出在每个类别上的概率分布\n",
    "#编译模型\n",
    "model.compile(optimizer= 'rmsprop',\n",
    "             loss = 'categorical_crossentropy',     #对于多分类问题使用分类交叉熵作为损失函数\n",
    "             metrics= ['accuracy'])\n",
    "#训练模型\n",
    "history = model.fit(x_train_part, y_train_part, epochs=9, batch_size = 512, validation_data=(x_val, y_val))\n",
    "\n",
    "result = model.evaluate(x_test, one_hot_test_labels)"
   ]
  },
  {
   "cell_type": "code",
   "execution_count": null,
   "id": "a7686395",
   "metadata": {},
   "outputs": [],
   "source": []
  }
 ],
 "metadata": {
  "kernelspec": {
   "display_name": "Python 3",
   "language": "python",
   "name": "python3"
  },
  "language_info": {
   "codemirror_mode": {
    "name": "ipython",
    "version": 3
   },
   "file_extension": ".py",
   "mimetype": "text/x-python",
   "name": "python",
   "nbconvert_exporter": "python",
   "pygments_lexer": "ipython3",
   "version": "3.8.8"
  }
 },
 "nbformat": 4,
 "nbformat_minor": 5
}
