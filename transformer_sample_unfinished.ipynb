{
 "cells": [
  {
   "cell_type": "code",
   "execution_count": 1,
   "id": "66c51841",
   "metadata": {},
   "outputs": [],
   "source": [
    "import pandas as pd\n",
    "import numpy as np\n",
    "import matplotlib.pyplot as plt\n",
    "%matplotlib inline\n",
    "import tensorflow as tf\n",
    "from tensorflow import keras\n",
    "import os\n",
    "import tensorflow_datasets"
   ]
  },
  {
   "cell_type": "code",
   "execution_count": 2,
   "id": "34a81754",
   "metadata": {},
   "outputs": [
    {
     "name": "stderr",
     "output_type": "stream",
     "text": [
      "WARNING:absl:Warning: Setting shuffle_files=True because split=TRAIN and shuffle_files=None. This behavior will be deprecated on 2019-08-06, at which point shuffle_files=False will be the default for all splits.\n"
     ]
    },
    {
     "name": "stdout",
     "output_type": "stream",
     "text": [
      "tfds.core.DatasetInfo(\n",
      "    name='ted_hrlr_translate',\n",
      "    version=0.0.1,\n",
      "    description='Data sets derived from TED talk transcripts for comparing similar language pairs\n",
      "where one is high resource and the other is low resource.\n",
      "',\n",
      "    urls=['https://github.com/neulab/word-embeddings-for-nmt'],\n",
      "    features=Translation({\n",
      "        'en': Text(shape=(), dtype=tf.string),\n",
      "        'pt': Text(shape=(), dtype=tf.string),\n",
      "    }),\n",
      "    total_num_examples=54781,\n",
      "    splits={\n",
      "        'test': 1803,\n",
      "        'train': 51785,\n",
      "        'validation': 1193,\n",
      "    },\n",
      "    supervised_keys=('pt', 'en'),\n",
      "    citation=\"\"\"@inproceedings{Ye2018WordEmbeddings,\n",
      "      author  = {Ye, Qi and Devendra, Sachan and Matthieu, Felix and Sarguna, Padmanabhan and Graham, Neubig},\n",
      "      title   = {When and Why are pre-trained word embeddings useful for Neural Machine Translation},\n",
      "      booktitle = {HLT-NAACL},\n",
      "      year    = {2018},\n",
      "      }\"\"\",\n",
      "    redistribution_info=,\n",
      ")\n",
      "\n"
     ]
    }
   ],
   "source": [
    "#导入数据\n",
    "examples, info = tensorflow_datasets.load('ted_hrlr_translate/pt_to_en', with_info=True,as_supervised=True)\n",
    "train_data, val_data = examples['train'], examples['validation']\n",
    "print(info)"
   ]
  },
  {
   "cell_type": "code",
   "execution_count": 3,
   "id": "7986de07",
   "metadata": {},
   "outputs": [],
   "source": [
    "en_tokenizer = tensorflow_datasets.features.text.SubwordTextEncoder.build_from_corpus((en.numpy() for en,pt in train_data),target_vocab_size= 2**13)\n",
    "pt_tokenizer = tensorflow_datasets.features.text.SubwordTextEncoder.build_from_corpus((pt.numpy() for en,pt in train_data),target_vocab_size= 2**13)\n"
   ]
  },
  {
   "cell_type": "code",
   "execution_count": 4,
   "id": "97bbef26",
   "metadata": {},
   "outputs": [],
   "source": [
    "#数据预处理\n",
    "buffer_size = 20000\n",
    "batch_size = 64\n",
    "max_length = 40\n",
    "\n",
    "def encode_to_subword(en_sentence, pt_sentence):#词汇表里有0 ~ vacab_size-1的序号，所以用vacab_size和vocab_size+1作为开始和结束的标识符\n",
    "    en_sequence =[en_tokenizer.vocab_size]\\\n",
    "    +en_tokenizer.encode(en_sentence.numpy())\\\n",
    "    +[en_tokenizer.vocab_size+1]\n",
    "    \n",
    "    pt_sequence =[pt_tokenizer.vocab_size]\\\n",
    "    +pt_tokenizer.encode(pt_sentence.numpy())\\\n",
    "    +[pt_tokenizer.vocab_size+1]\n",
    "    \n",
    "    return en_sequence, pt_sequence\n",
    "\n",
    "def filter_by_max_length(pt, en):    #判断长度是否<=40\n",
    "    return tf.logical_and(tf.size(pt) <=max_length, tf.size(en) <=max_length)\n",
    "    \n",
    "def tf_encode_to_subword(en_sentence, pt_sentence):    #进行pyfunction的封装\n",
    "    return tf.py_function(encode_to_subword,[en_sentence, pt_sentence], [tf.int64, tf.int64])\n",
    "    \n",
    "#生成训练与验证的数据集\n",
    "train_dataset = train_data.map(tf_encode_to_subword)\n",
    "train_dataset = train_dataset.filter(filter_by_max_length)     #舍弃长度大于40的数据\n",
    "train_dataset = train_dataset.shuffle(buffer_size).padded_batch(batch_size,padded_shapes= ([-1], [-1]))    #随机打乱数据， 将每64个样本补成相同长度\n",
    "\n",
    "val_dataset = val_data.map(tf_encode_to_subword)\n",
    "val_dataset = val_dataset.filter(filter_by_max_length)     #舍弃长度大于40的数据\n",
    "val_dataset = val_dataset.padded_batch(batch_size, padded_shapes= ([-1], [-1]))    #将每64个样本补成相同长度"
   ]
  },
  {
   "cell_type": "code",
   "execution_count": 5,
   "id": "26c9cea3",
   "metadata": {},
   "outputs": [
    {
     "name": "stdout",
     "output_type": "stream",
     "text": [
      "(64, 40) (64, 40)\n",
      "(64, 38) (64, 40)\n",
      "(64, 40) (64, 40)\n",
      "(64, 39) (64, 39)\n",
      "(64, 37) (64, 38)\n"
     ]
    }
   ],
   "source": [
    "for en,pt in val_dataset.take(5):\n",
    "    print(en.shape,pt.shape)"
   ]
  },
  {
   "cell_type": "code",
   "execution_count": 6,
   "id": "7fe48cd6",
   "metadata": {},
   "outputs": [],
   "source": [
    "#位置编码\n",
    "#pos.shape:[sample_length, 1]\n",
    "#i.shape = angles.shape = [1,d_model]\n",
    "#result.shape = [sample_length, d_model]\n",
    "\n",
    "def get_angles(pos, i, d_model):     #position:词语在句子中的位置， i:词语在embedding中的位置， d_model:embedding的大小\n",
    "    angle_rates = 1/np.power(10000, (i//2) * 2/np.float32(d_model))\n",
    "    return pos*angle_rates\n",
    "    \n",
    "def get_position_embedding(sentence_length, d_model):\n",
    "    angle_rads = get_angles(np.arange(sentence_length)[:,np.newaxis],         #生成一个shape为[sentence_length, 1]的矩阵\n",
    "                            np.arange(d_model)[np.newaxis, :],                 #生成一个shape为[1, d_model]的矩阵\n",
    "                            d_model)\n",
    "    sines = np.sin(angle_rads[:, 0::2])   #偶数位\n",
    "    cosines = np.cos(angle_rads[:, 1::2])   #奇数位\n",
    "    position_embedding = np.concatenate([sines, cosines], axis = 1)\n",
    "    position_embedding = position_embedding[np.newaxis, ...]   #在最前面扩展出一个新的维度\n",
    "    #shape:[1, sentence_length, d_model]\n",
    "    return tf.cast(position_embedding, dtype= tf.float32)   #数据类型转换\n"
   ]
  },
  {
   "cell_type": "code",
   "execution_count": 7,
   "id": "5de4d73d",
   "metadata": {},
   "outputs": [
    {
     "data": {
      "image/png": "[encoded data removed]",
      "text/plain": [
       "<Figure size 432x288 with 2 Axes>"
      ]
     },
     "metadata": {
      "needs_background": "light"
     },
     "output_type": "display_data"
    }
   ],
   "source": [
    "position_embedding = get_position_embedding(40, 512)\n",
    "\n",
    "#绘制position_embedding\n",
    "def plot_position_embedding(position_embedding):\n",
    "    plt.pcolormesh(position_embedding[0])\n",
    "    plt.colorbar()\n",
    "    plt.xlabel('depth')\n",
    "    plt.ylabel('position')\n",
    "\n",
    "plot_position_embedding(position_embedding)"
   ]
  },
  {
   "cell_type": "code",
   "execution_count": 8,
   "id": "76870b09",
   "metadata": {},
   "outputs": [
    {
     "name": "stdout",
     "output_type": "stream",
     "text": [
      "tf.Tensor(\n",
      "[[[[0. 0. 1.]]]\n",
      "\n",
      "\n",
      " [[[0. 1. 0.]]]], shape=(2, 1, 1, 3), dtype=float32)\n"
     ]
    }
   ],
   "source": [
    "#padding mask\n",
    "def create_padding_mask(batch_data):\n",
    "    padding_mask = tf.cast(tf.math.equal(batch_data, 0), tf.float32)       #将填充0部分的值设为1\n",
    "    return padding_mask[:, tf.newaxis, tf.newaxis, :]       #为便于后续计算，在中间添加两个维度\n",
    "\n",
    "#测试padding mask\n",
    "x = tf.constant([[1,4,0], [3, 0, 8]])\n",
    "print(create_padding_mask(x))"
   ]
  },
  {
   "cell_type": "code",
   "execution_count": 9,
   "id": "4e7fe1b6",
   "metadata": {},
   "outputs": [
    {
     "data": {
      "text/plain": [
       "<tf.Tensor: shape=(4, 4), dtype=float32, numpy=\n",
       "array([[0., 1., 1., 1.],\n",
       "       [0., 0., 1., 1.],\n",
       "       [0., 0., 0., 1.],\n",
       "       [0., 0., 0., 0.]], dtype=float32)>"
      ]
     },
     "execution_count": 9,
     "metadata": {},
     "output_type": "execute_result"
    }
   ],
   "source": [
    "#look_ahead_mask\n",
    "def create_look_ahead_mask(size):\n",
    "    mask = 1 - tf.linalg.band_part(tf.ones((size, size)), -1, 0)     #将右上角要去掉的部分的值设为1\n",
    "    return mask\n",
    "#测试look_ahead_mask\n",
    "create_look_ahead_mask(4)"
   ]
  },
  {
   "cell_type": "code",
   "execution_count": 10,
   "id": "e66fb19d",
   "metadata": {},
   "outputs": [],
   "source": [
    "#缩放点积注意力机制\n",
    "def scaled_dot_product_attention(q, k, v, mask):\n",
    "#     args:\n",
    "#         q: shape == [..., seq_len_q, depth]\n",
    "#         k: shape == [..., seq_len_k, depth]\n",
    "#         v: shape == [..., seq_len_v, depth_v]\n",
    "#         seq_length_k = seq_length_v （矩阵乘法）\n",
    "#         mask_shape = (..., seq_length_q, seq_length_k)\\\n",
    "#     returns:\n",
    "#         output: weighted_sum\n",
    "#         attention_weights: weights_of_attention (alpha)\n",
    "    matmul_qk = tf.matmul(q, k, transpose_b=True)        #矩阵乘法, k取转置\n",
    "    dk = tf.cast(tf.shape(k)[-1], tf.float32)            #类型转换\n",
    "    scaled_attention_logits = matmul_qk / tf.math.sqrt(dk)\n",
    "    #添加mask\n",
    "    if mask is not None:\n",
    "        scaled_attention_logits += (mask * -1e9)       #将要去掉的部分的值加上-1e9,在softmax之后值趋近于0\n",
    "    #计算alpha\n",
    "    attention_weights = tf.nn.softmax(scaled_attention_logits, axis= -1)    #shape = (... , seq_len_q, seq_len_k)\n",
    "    output = tf.matmul(attention_weights, v)          #shape = (... , seq_len_q, depth)\n",
    "    return output, attention_weights\n"
   ]
  },
  {
   "cell_type": "code",
   "execution_count": 11,
   "id": "a45e509d",
   "metadata": {},
   "outputs": [],
   "source": [
    "class MultiHeadAttention(keras.layers.Layer):\n",
    "    def __init__(self, d_model, num_heads):\n",
    "        super(MultiHeadAttention, self).__init__()     #继承父类的构造方法\n",
    "        self.d_model = d_model\n",
    "        self.num_heads = num_heads\n",
    "        assert self.d_model %self.num_heads == 0\n",
    "        self.depth = self.d_model // self.num_heads\n",
    "        \n",
    "        self.WQ = keras.layers.Dense(self.d_model)     #三个全连接层用来计算qkv\n",
    "        \n",
    "        self.WK= keras.layers.Dense(self.d_model)\n",
    "        self.WV= keras.layers.Dense(self.d_model)\n",
    "        \n",
    "        self.dense = keras.layers.Dense(self.d_model)\n",
    "        \n",
    "    \n",
    "    def split_heads(self, x, batch_size):\n",
    "        #多头注意力机制的实现，对x进行reshape：（batch_size, seq_len, d_model）-> (batch_size, num_heads, seq_len, depth)\n",
    "        x = tf.reshape(x,(batch_size, -1, self.num_heads, self.depth))\n",
    "        return tf.transpose(x, perm=[0,2,1,3])     #这里维度转换是因为attention计算使用的是后两个维度\n",
    "    \n",
    "    def call(self, q, k, v, mask):\n",
    "        q = self.WQ(q)\n",
    "        k = self.WK(k)\n",
    "        v = self.WV(v)\n",
    "        \n",
    "        batch_size = tf.shape(q)[0]\n",
    "        q = self.split_heads(q, batch_size)     #shape: (batch_size, num_heads, seq_len, depth)\n",
    "        k = self.split_heads(k, batch_size)\n",
    "        v = self.split_heads(v, batch_size)\n",
    "        \n",
    "        outputs, attention_weights = scaled_dot_product_attention(q, k, v, mask)\n",
    "        #reshape： (batch_size, num_heads, seq_len, depth) -> (batch_size, seq_len, num_heads, depth)\n",
    "        outputs = tf.transpose(outputs, perm=[0,2,1,3])\n",
    "        #合并后两个维度\n",
    "        concat_attention = tf.reshape(outputs, (batch_size, -1, self.d_model))\n",
    "        \n",
    "        output = self.dense(concat_attention)    #output.shape = (batch_size, seq_len, d_model)\n",
    "        return output, attention_weights"
   ]
  },
  {
   "cell_type": "code",
   "execution_count": 12,
   "id": "f5beac0d",
   "metadata": {},
   "outputs": [
    {
     "name": "stdout",
     "output_type": "stream",
     "text": [
      "(1, 60, 512) (1, 8, 60, 60)\n"
     ]
    }
   ],
   "source": [
    "#测试multihead\n",
    "temp = MultiHeadAttention(d_model = 512, num_heads = 8)\n",
    "x = tf.random.uniform((1,60, 256))    #(batch_size, seq_len, dim)\n",
    "output, attention = temp(x,x,x,mask = None)\n",
    "print(output.shape, attention.shape)\n"
   ]
  },
  {
   "cell_type": "code",
   "execution_count": 13,
   "id": "b5044134",
   "metadata": {},
   "outputs": [],
   "source": [
    "def feed_forward_network(d_model, dff):       #dff: dim of ffn\n",
    "    return keras.Sequential([\n",
    "        keras.layers.Dense(dff, activation = 'relu'), \n",
    "        keras.layers.Dense(d_model)\n",
    "    ])"
   ]
  },
  {
   "cell_type": "code",
   "execution_count": 14,
   "id": "9f03cd8f",
   "metadata": {},
   "outputs": [],
   "source": [
    "class EncoderLayer(keras.layers.Layer):\n",
    "    \"\"\"\n",
    "    x -> self attention -> add & norm & dropout-> feed forward -> add & norm & dropout \n",
    "    \"\"\"\n",
    "    def __init__(self, d_model, num_heads, dff, rate = 0.1):           #rate: 用于drop out\n",
    "        super(EncoderLayer, self).__init__()\n",
    "        self.mha = MultiHeadAttention(d_model, num_heads)\n",
    "        self.ffn = feed_forward_network(d_model, dff)\n",
    "        \n",
    "        self.layer_norm1 = keras.layers.LayerNormalization(epsilon = 1e-6)\n",
    "        self.layer_norm2 = keras.layers.LayerNormalization(epsilon = 1e-6)\n",
    "        \n",
    "        self.dropout1 = keras.layers.Dropout(rate)\n",
    "        self.dropout2 = keras.layers.Dropout(rate)\n",
    "        \n",
    "    def call(self, x, training, mask):\n",
    "        #x.shape: (batch_size, seq_len, dim) dim是embedding的维度或者上一层的维度\n",
    "        attention_output, _ = self.mha(x,x,x,mask)    #self attention的qkv都是自己\n",
    "        attention_output = self.dropout1(attention_output, training = training) #告诉dropout是训练还是测试\n",
    "        out1 = self.layer_norm1(x + attention_output)   #残差连接\n",
    "        \n",
    "        ffn_output = self.ffn(out1)\n",
    "        ffn_output = self.dropout2(ffn_output, training = training)\n",
    "        out2 = self.layer_norm2(ffn_output + out1)\n",
    "        \n",
    "        return out2\n"
   ]
  },
  {
   "cell_type": "code",
   "execution_count": 15,
   "id": "b02b8243",
   "metadata": {},
   "outputs": [
    {
     "name": "stdout",
     "output_type": "stream",
     "text": [
      "(64, 50, 512)\n"
     ]
    }
   ],
   "source": [
    "#测试Encoder Layer\n",
    "sample_encoder_layer = EncoderLayer(512,8, 2048)\n",
    "sample_input = tf.random.uniform((64,50,512))\n",
    "sample_output = sample_encoder_layer(sample_input, False, None)\n",
    "print(sample_output.shape)"
   ]
  },
  {
   "cell_type": "code",
   "execution_count": 16,
   "id": "755652bc",
   "metadata": {},
   "outputs": [],
   "source": [
    "class DecoderLayer(keras.layers.Layer):\n",
    "    def __init__(self, d_model, num_heads, dff, rate = 0.1):\n",
    "        super(DecoderLayer, self).__init__()\n",
    "        \n",
    "        self.mha1 = MultiHeadAttention(d_model, num_heads)    #self attention\n",
    "        self.mha2 = MultiHeadAttention(d_model, num_heads)    #encoder-decoder attention\n",
    "        self.ffn = feed_forward_network(d_model, dff)\n",
    "        \n",
    "        self.layer_norm1 = keras.layers.LayerNormalization(epsilon = 1e-6)\n",
    "        self.layer_norm2 = keras.layers.LayerNormalization(epsilon = 1e-6)\n",
    "        self.layer_norm3 = keras.layers.LayerNormalization(epsilon = 1e-6)\n",
    "        \n",
    "        self.dropout1 = keras.layers.Dropout(rate)\n",
    "        self.dropout2 = keras.layers.Dropout(rate)\n",
    "        self.dropout3 = keras.layers.Dropout(rate)\n",
    "        \n",
    "    def call(self, x, encoding_outputs, training, look_ahead_mask, padding_mask):\n",
    "        #x.shape : (batch_size, target_seq_len, d_model)\n",
    "        #encoding_outputs.shape: (batch_size, input_seq_length, d_model)\n",
    "        \n",
    "        attention1, weights1 = self.mha1(x,x,x,look_ahead_mask)       #self attention\n",
    "        attention1 = self.dropout1(attention1, training = training)\n",
    "        out1 = self.layer_norm1(attention1 + x)\n",
    "        \n",
    "        attention2, weights2 = self.mha2(out1, encoding_outputs, encoding_outputs, padding_mask)  #encoder-decoder attention\n",
    "        attention2 = self.dropout2(attention2, training = training)\n",
    "        out2 = self.layer_norm2(attention2 + out1)\n",
    "        \n",
    "        ffn_out = self.ffn(out2)\n",
    "        ffn_out = self.dropout3(ffn_out, training = training)\n",
    "        out3 = self.layer_norm3(ffn_out + out2)      #out3.shape : (batch_size, target_seq_len, d_model)\n",
    "        \n",
    "        return out3, weights1, weights2\n",
    "    "
   ]
  },
  {
   "cell_type": "code",
   "execution_count": 17,
   "id": "ae3e801a",
   "metadata": {},
   "outputs": [
    {
     "name": "stdout",
     "output_type": "stream",
     "text": [
      "(64, 60, 512) (64, 8, 60, 60) (64, 8, 60, 50)\n"
     ]
    }
   ],
   "source": [
    "#测试decoder layer\n",
    "decoder_layer = DecoderLayer(512,8,2048)\n",
    "decoder_input = tf.random.uniform((64, 60, 512))\n",
    "output, weight1, weight2 = decoder_layer(decoder_input, sample_output, False, None, None)\n",
    "print(output.shape, weight1.shape, weight2.shape)"
   ]
  },
  {
   "cell_type": "code",
   "execution_count": 18,
   "id": "b9b944f3",
   "metadata": {},
   "outputs": [],
   "source": [
    "class EncoderModel(keras.layers.Layer):\n",
    "    def __init__(self, num_layers, input_vocab_size, max_length, d_model, num_heads, dff, rate = 0.1):\n",
    "        super(EncoderModel, self).__init__()\n",
    "        self.d_model = d_model\n",
    "        self.num_layers = num_layers\n",
    "        self.max_length = max_length\n",
    "        \n",
    "        self.embedding = keras.layers.Embedding(input_vocab_size, self.d_model)\n",
    "        self.position_embedding = get_position_embedding(max_length, self.d_model)\n",
    "        self.dropout = keras.layers.Dropout(rate)\n",
    "        self.encoder_layers = [EncoderLayer(d_model, num_heads, dff, rate) for _ in range(self.num_layers)]\n",
    "        \n",
    "    def call(self, x, training, mask):\n",
    "        input_seq_length = tf.shape(x)[1]    #x.shape : (batch_size, seq_len)\n",
    "        assert input_seq_length <= self.max_length\n",
    "        \n",
    "        x = self.embedding(x)     #x.shape -> (batch_size, seq_len, d_model)\n",
    "        x *= tf.math.sqrt(tf.cast(self.d_model, tf.float32))    #对x进行缩放，增加x的影响\n",
    "        #position_embedding.shape = （1，max_length, d_model)\n",
    "        x += self.position_embedding[:, :input_seq_length, :]    #进行切片操作，使得x与embedding能够相加。x的batch size中的每一份都会加上一个position embedding\n",
    "        x = self.dropout(x, training = training)\n",
    "        \n",
    "        for i in range(self.num_layers):\n",
    "            x = self.encoder_layers[i](x, training, mask)\n",
    "        return x\n",
    "        "
   ]
  },
  {
   "cell_type": "code",
   "execution_count": 19,
   "id": "cf2f7760",
   "metadata": {},
   "outputs": [
    {
     "name": "stdout",
     "output_type": "stream",
     "text": [
      "(64, 37, 512)\n"
     ]
    }
   ],
   "source": [
    "sample_encoder_model = EncoderModel(2, 8500, max_length, 512, 8, 2048)\n",
    "sample_encoder_model_input = tf.random.uniform((64, 37))\n",
    "sample_encoder_model_output = sample_encoder_model(sample_encoder_model_input, False, None)\n",
    "print(sample_encoder_model_output.shape)"
   ]
  },
  {
   "cell_type": "code",
   "execution_count": 27,
   "id": "743376cd",
   "metadata": {},
   "outputs": [],
   "source": [
    "class DecoderModel(keras.layers.Layer):\n",
    "    def __init__(self, num_layers, target_vocab_size, max_length, d_model, num_heads, dff, rate = 0.1):\n",
    "        super(DecoderModel, self).__init__()\n",
    "        \n",
    "        self.num_layers = num_layers\n",
    "        self.max_length = max_length\n",
    "        self.d_model = d_model\n",
    "        \n",
    "        self.embedding = keras.layers.Embedding(target_vocab_size, d_model)\n",
    "        self.position_embedding = get_position_embedding(max_length, d_model)\n",
    "        self.dropout = keras.layers.Dropout(rate)\n",
    "        \n",
    "        self.decoder_layers = [DecoderLayer(d_model, num_heads, dff, rate) for _ in range(self.num_layers)]\n",
    "        \n",
    "    def call(self, x, encoding_outputs, training, look_ahead_mask, padding_mask):\n",
    "        #x.shape: (batch_size, output_seq_len)\n",
    "        output_seq_len = tf.shape(x)[1]\n",
    "        assert output_seq_len <= self.max_length\n",
    "        \n",
    "        x = self.embedding(x)     #x.shape = (batch_size, output_seq_len, d_model)\n",
    "        x *= tf.math.sqrt(tf.cast(self.d_model, tf.float32))      #类似Encoder model\n",
    "        x += self.position_embedding[:, :output_seq_len, :]\n",
    "        x = self.dropout(x, training = training)\n",
    "        \n",
    "        attention_weights = {}\n",
    "        for i in range(self.num_layers):\n",
    "            x, attn1, attn2 = self.decoder_layers[i](x, encoding_outputs, training, look_ahead_mask, padding_mask)\n",
    "            attention_weights['decoder_layer{}_attn1'.format(i+1)] = attn1\n",
    "            attention_weights['decoder_layer{}_attn2'.format(i+1)] = attn2\n",
    "        return x, attention_weights"
   ]
  },
  {
   "cell_type": "code",
   "execution_count": 31,
   "id": "6a5bb578",
   "metadata": {},
   "outputs": [
    {
     "name": "stdout",
     "output_type": "stream",
     "text": [
      "(64, 35, 512)\n",
      "(64, 8, 35, 35)\n",
      "(64, 8, 35, 37)\n",
      "(64, 8, 35, 35)\n",
      "(64, 8, 35, 37)\n"
     ]
    }
   ],
   "source": [
    "#测试Decoder Model\n",
    "sample_decoder_model = DecoderModel(2, 8000, max_length, 512, 8, 2048)\n",
    "sample_decoder_model_input = tf.random.uniform((64, 35))\n",
    "sample_decoder_model_output, sample_decoder_model_attention = sample_decoder_model(\n",
    "    sample_decoder_model_input,\n",
    "    sample_encoder_model_output,\n",
    "    training = False,\n",
    "    look_ahead_mask = None,\n",
    "    padding_mask = None\n",
    "                                                                                  )\n",
    "print(sample_decoder_model_output.shape)\n",
    "for key in sample_decoder_model_attention:\n",
    "    print(sample_decoder_model_attention[key].shape)    \n",
    "#结果说明：decoder model有两个decoder layer，每个layer分别包括decoder self attention（35，35）和encoder-decoder attention（35，37）"
   ]
  },
  {
   "cell_type": "code",
   "execution_count": 32,
   "id": "5b23389e",
   "metadata": {},
   "outputs": [],
   "source": [
    "class Transformer(keras.Model):\n",
    "    def __init__(self, num_layers, input_vocab_size, target_vocab_size, max_length, d_model, num_heads, dff, rate = 0.1):\n",
    "        super(Transformer, self).__init__()\n",
    "        \n",
    "        self.encoder_model = EncoderModel(num_layers, input_vocab_size, max_length, d_model, num_heads, dff, rate)\n",
    "        self.decoder_model = DecoderModel(num_layers, target_vocab_size, max_length, d_model, num_heads, dff, rate)\n",
    "        self.final_layer = keras.layers.Dense(target_vocab_size)\n",
    "        \n",
    "    def call(self, inp, tar, training, encoder_padding_mask, look_ahead_mask, decoder_padding_mask):\n",
    "        encoding_outputs = self.encoder_model(inp, training, encoder_padding_mask)\n",
    "        decoding_outputs, attention_weights = self.decoder_model(tar, encoding_outputs, training, look_ahead_mask, decoder_padding_mask)\n",
    "        predictions = self.final_layer(decoding_outputs)\n",
    "        return predictions, attention_weights"
   ]
  },
  {
   "cell_type": "code",
   "execution_count": 33,
   "id": "6357cb33",
   "metadata": {},
   "outputs": [
    {
     "name": "stdout",
     "output_type": "stream",
     "text": [
      "(64, 31, 8000)\n",
      "decoder_layer1_attn1 (64, 8, 31, 31)\n",
      "decoder_layer1_attn2 (64, 8, 31, 26)\n",
      "decoder_layer2_attn1 (64, 8, 31, 31)\n",
      "decoder_layer2_attn2 (64, 8, 31, 26)\n"
     ]
    }
   ],
   "source": [
    "sample_transformer = Transformer(2, 8500, 8000, max_length, 512, 8, 2048)\n",
    "sample_transformer_input = tf.random.uniform((64, 26))\n",
    "sample_transformer_target = tf.random.uniform((64, 31))\n",
    "\n",
    "sample_transformer_predictions, sample_transformer_attn = sample_transformer(\n",
    "    sample_transformer_input, \n",
    "    sample_transformer_target,\n",
    "    False, None, None, None)\n",
    "\n",
    "print(sample_transformer_predictions.shape)\n",
    "for key in sample_transformer_attn:\n",
    "    print(key, sample_transformer_attn[key].shape)"
   ]
  },
  {
   "cell_type": "code",
   "execution_count": 34,
   "id": "15dae2a7",
   "metadata": {},
   "outputs": [],
   "source": [
    "#1.初始化模型\n",
    "# 2.定义loss, learning rate schedule, optimizer\n",
    "# 3.train step\n",
    "# 4.train process\n",
    "\n",
    "num_layers = 4\n",
    "d_model = 128      #模型的size\n",
    "dff = 512\n",
    "num_heads = 8\n",
    "\n",
    "input_vocab_size = pt_tokenizer.vocab_size + 2\n",
    "target_vocab_size = en_tokenizer.vocab_size + 2\n",
    "dropout_rate = 0.1\n",
    "\n",
    "transformer = Transformer(num_layers, input_vocab_size, target_vocab_size, \n",
    "                          max_length, d_model, num_heads, dff, dropout_rate)"
   ]
  },
  {
   "cell_type": "code",
   "execution_count": 35,
   "id": "be2ab026",
   "metadata": {},
   "outputs": [],
   "source": [
    "#论文中learning rate的调整方法\n",
    "#lrate = (d_model ** (-0.5)) * min(step_num ** (-0.5), step_number * warm_up_steps ** (-1.5))\n",
    "class CustomizedSchedule(keras.optimizers.schedules.LearningRateSchedule):\n",
    "    def __init__(self, d_model, warm_up_steps = 4000):\n",
    "        self.d_model = tf.cast(d_model, tf.float32)\n",
    "        self.warm_up_steps = warm_up_steps\n",
    "        \n",
    "    def call(self, step):\n",
    "        arg1 = tf.math.rsqrt(step)     #step num ** -0.5\n",
    "        arg2 = step * (self.warm_up_steps ** (-1.5))\n",
    "        atg3 = tf.math.rsqrt(self.d_model)\n",
    "        \n",
    "        return arg3 * tf.math.minimum(arg2, arg1)\n",
    "    \n",
    "learning_rate = CustomizedSchedule(d_model)\n",
    "optimizer = keras.optimizers.Adam(learning_rate, beta_1= 0.9, beta_2 = 0.98, epsilon= 1e-9)\n"
   ]
  },
  {
   "cell_type": "code",
   "execution_count": null,
   "id": "1e7dd7be",
   "metadata": {},
   "outputs": [],
   "source": [
    "loss_object = keras.losses.SparseCategoricalCrossentropy(from_logits= )"
   ]
  }
 ],
 "metadata": {
  "kernelspec": {
   "display_name": "Python 3",
   "language": "python",
   "name": "python3"
  },
  "language_info": {
   "codemirror_mode": {
    "name": "ipython",
    "version": 3
   },
   "file_extension": ".py",
   "mimetype": "text/x-python",
   "name": "python",
   "nbconvert_exporter": "python",
   "pygments_lexer": "ipython3",
   "version": "3.9.6"
  }
 },
 "nbformat": 4,
 "nbformat_minor": 5
}
